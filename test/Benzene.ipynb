{
 "cells": [
  {
   "cell_type": "markdown",
   "metadata": {},
   "source": [
    "# The improper dihedral for benzene does not get written by ParmEd"
   ]
  },
  {
   "cell_type": "markdown",
   "metadata": {},
   "source": [
    "This is a problem if someone wants to parameterize a system with SMIRNOFF99Frosst, and use ParmEd to save a `.frcmod` file so that AmberTools (e.g., `tleap`) can be used downstream to add solvent or otherwise manipulate the structure."
   ]
  },
  {
   "cell_type": "code",
   "execution_count": 1,
   "metadata": {},
   "outputs": [],
   "source": [
    "import numpy as np\n",
    "import simtk"
   ]
  },
  {
   "cell_type": "markdown",
   "metadata": {},
   "source": [
    "This is using the 0.3.0 development branch of the toolkit."
   ]
  },
  {
   "cell_type": "code",
   "execution_count": 2,
   "metadata": {},
   "outputs": [],
   "source": [
    "import openforcefield"
   ]
  },
  {
   "cell_type": "code",
   "execution_count": 3,
   "metadata": {
    "scrolled": true
   },
   "outputs": [
    {
     "data": {
      "text/plain": [
       "'0.2.2+8.gd3c1bcf'"
      ]
     },
     "execution_count": 3,
     "metadata": {},
     "output_type": "execute_result"
    }
   ],
   "source": [
    "openforcefield.__version__"
   ]
  },
  {
   "cell_type": "markdown",
   "metadata": {},
   "source": [
    "The starting point is a standard `.mol2` file with Tripos atom names."
   ]
  },
  {
   "cell_type": "code",
   "execution_count": 4,
   "metadata": {},
   "outputs": [],
   "source": [
    "with open(\"../data/benzene.tripos.mol2\") as file:\n",
    "    benzenze = file.read()"
   ]
  },
  {
   "cell_type": "markdown",
   "metadata": {},
   "source": [
    "## AMBER workflow to create `.frcmod` file for benzene (for example)"
   ]
  },
  {
   "cell_type": "markdown",
   "metadata": {},
   "source": [
    "Let's create an AMBER `frcmod` for reference:\n",
    "\n",
    "\n",
    "```bash\n",
    "antechamber -fi mol2 -i benzene.tripos.mol2 -fo mol2 -o benzene.gaff.mol2\n",
    "tleap -f tleap.gaff.in\n",
    "parmchk2 -i benzene.gaff.mol2 -f mol2 -o benzene.gaff.frcmod -s 2 -a Y\n",
    "```\n",
    "\n",
    "where `tleap.gaff.in` is:\n",
    "```\n",
    "source leaprc.gaff2\n",
    "mol = loadmol2 benzene.gaff.mol2\n",
    "saveamberparm mol benzene.gaff.prmtop benzene.gaff.inpcrd\n",
    "```\n",
    "\n",
    "The contents of the GAFF2 `frcmod` file is:\n",
    "\n",
    "```\n",
    "Remark line goes here\n",
    "MASS\n",
    "ca 12.010        0.360\n",
    "ha 1.008         0.135\n",
    "\n",
    "BOND\n",
    "ca-ca  378.57   1.398\n",
    "ca-ha  395.72   1.086\n",
    "\n",
    "ANGLE\n",
    "ca-ca-ca   68.767     120.020\n",
    "ca-ca-ha   48.680     119.880\n",
    "\n",
    "DIHE\n",
    "ca-ca-ca-ca   4   14.500       180.000           2.000\n",
    "ca-ca-ca-ha   4   14.500       180.000           2.000\n",
    "ha-ca-ca-ha   4   14.500       180.000           2.000\n",
    "\n",
    "IMPROPER\n",
    "ca-ca-ca-ha         1.1          180.0         2.0          Using general improper torsional angle  X- X-ca-ha, penalty score=  6.0)\n",
    "\n",
    "NONBON\n",
    "  ca          1.8606  0.0988\n",
    "  ha          1.4735  0.0161\n",
    "\n",
    "```"
   ]
  },
  {
   "cell_type": "markdown",
   "metadata": {},
   "source": [
    "## `openforcefield` toolkit workflow\n",
    "\n",
    "Tripols MOL2 → OEMols → OpenMM system → MOL2, PRMTOP, FRCMOD (via ParmED)"
   ]
  },
  {
   "cell_type": "code",
   "execution_count": 5,
   "metadata": {},
   "outputs": [],
   "source": [
    "from openforcefield.typing.engines.smirnoff import ForceField\n",
    "from openforcefield.topology import Molecule, Topology"
   ]
  },
  {
   "cell_type": "code",
   "execution_count": 6,
   "metadata": {},
   "outputs": [],
   "source": [
    "import parmed as pmd"
   ]
  },
  {
   "cell_type": "markdown",
   "metadata": {},
   "source": [
    "### 1. Read in `.mol2`"
   ]
  },
  {
   "cell_type": "code",
   "execution_count": 7,
   "metadata": {},
   "outputs": [],
   "source": [
    "mol = openforcefield.topology.Molecule.from_file(\"../data/benzene.tripos.mol2\")"
   ]
  },
  {
   "cell_type": "code",
   "execution_count": 8,
   "metadata": {},
   "outputs": [
    {
     "data": {
      "text/plain": [
       "Molecule with name 'LIG' and SMILES '[H]c1c(c(c(c(c1[H])[H])[H])[H])[H]'"
      ]
     },
     "execution_count": 8,
     "metadata": {},
     "output_type": "execute_result"
    }
   ],
   "source": [
    "mol"
   ]
  },
  {
   "cell_type": "markdown",
   "metadata": {},
   "source": [
    "### 2. Create topology"
   ]
  },
  {
   "cell_type": "code",
   "execution_count": 9,
   "metadata": {},
   "outputs": [],
   "source": [
    "topology = openforcefield.topology.Topology.from_molecules([mol])"
   ]
  },
  {
   "cell_type": "code",
   "execution_count": 10,
   "metadata": {},
   "outputs": [
    {
     "name": "stdout",
     "output_type": "stream",
     "text": [
      "I see 12 atoms.\n",
      "I see 12 bonds.\n",
      "I see 18 angles.\n",
      "I see 24 dihedrals.\n",
      "I see 36 impropers.\n"
     ]
    }
   ],
   "source": [
    "print(f\"I see {len([i for i in topology.topology_atoms])} atoms.\")\n",
    "\n",
    "\n",
    "print(f\"I see {len([i for i in topology.topology_bonds])} bonds.\")\n",
    "print(f\"I see {topology.n_angles} angles.\")\n",
    "print(f\"I see {topology.n_propers} dihedrals.\")\n",
    "print(f\"I see {topology.n_impropers} impropers.\")"
   ]
  },
  {
   "cell_type": "markdown",
   "metadata": {},
   "source": [
    "### 3. Parameterize"
   ]
  },
  {
   "cell_type": "code",
   "execution_count": 11,
   "metadata": {},
   "outputs": [],
   "source": [
    "ff = ForceField(\"smirnoff99Frosst.offxml\")"
   ]
  },
  {
   "cell_type": "code",
   "execution_count": 12,
   "metadata": {},
   "outputs": [],
   "source": [
    "system = ff.create_openmm_system(topology)"
   ]
  },
  {
   "cell_type": "code",
   "execution_count": 13,
   "metadata": {},
   "outputs": [
    {
     "name": "stdout",
     "output_type": "stream",
     "text": [
      "I see 12 atoms.\n",
      "I see 42 mixed proper and improper dihedrals.\n",
      "I see 18 angles.\n",
      "I see 12 bonds.\n"
     ]
    }
   ],
   "source": [
    "print(f\"I see {system.getNumParticles()} atoms.\")\n",
    "\n",
    "for force in system.getForces():\n",
    "    if isinstance(force, simtk.openmm.openmm.HarmonicBondForce):\n",
    "        print(f\"I see {force.getNumBonds()} bonds.\")\n",
    "    if isinstance(force, simtk.openmm.openmm.HarmonicAngleForce):\n",
    "        print(f\"I see {force.getNumAngles()} angles.\")\n",
    "    if isinstance(force, simtk.openmm.openmm.PeriodicTorsionForce):\n",
    "        print(f\"I see {force.getNumTorsions()} mixed proper and improper dihedrals.\")"
   ]
  },
  {
   "cell_type": "markdown",
   "metadata": {},
   "source": [
    "### 4. Bring into ParmEd"
   ]
  },
  {
   "cell_type": "code",
   "execution_count": 35,
   "metadata": {},
   "outputs": [],
   "source": [
    "parmed_structure = pmd.openmm.load_topology(topology.to_openmm(), system)"
   ]
  },
  {
   "cell_type": "code",
   "execution_count": 36,
   "metadata": {},
   "outputs": [
    {
     "name": "stdout",
     "output_type": "stream",
     "text": [
      "I see 12 atoms.\n",
      "I see 12 bonds.\n",
      "I see 18 angles.\n",
      "I see 42 mixed proper and improper dihedrals.\n"
     ]
    }
   ],
   "source": [
    "print(f\"I see {len(parmed_structure.atoms)} atoms.\")\n",
    "\n",
    "\n",
    "print(f\"I see {len(parmed_structure.bonds)} bonds.\")\n",
    "print(f\"I see {len(parmed_structure.angles)} angles.\")\n",
    "print(f\"I see {len(parmed_structure.dihedrals)} mixed proper and improper dihedrals.\")"
   ]
  },
  {
   "cell_type": "markdown",
   "metadata": {},
   "source": [
    "In ParmEd, I think propers and impropers are all in the same list. Only CHARMM-style impropers are included in `Structure.impropers`. See this comment: https://github.com/ParmEd/ParmEd/issues/990#issuecomment-397844139\n",
    "\n",
    "We can directly query the distinct propers and impropers, though."
   ]
  },
  {
   "cell_type": "code",
   "execution_count": 37,
   "metadata": {},
   "outputs": [
    {
     "data": {
      "text/plain": [
       "TrackedList([\n",
       "\t<DihedralType; phi_k=0.367, per=2, phase=180.000,  scee=1.000, scnb=1.000>\n",
       "\t<DihedralType; phi_k=3.625, per=2, phase=180.000,  scee=1.000, scnb=1.000>\n",
       "])"
      ]
     },
     "execution_count": 37,
     "metadata": {},
     "output_type": "execute_result"
    }
   ],
   "source": [
    "parmed_structure.dihedral_types"
   ]
  },
  {
   "cell_type": "markdown",
   "metadata": {},
   "source": [
    "**Potential bug 1. These dihedral scaling factors are wrong / not the ones intended.**\n",
    "\n",
    "I'm almost positive these should be `scee=1.2` (i.e., 1.0/1.2 = 0.83333...) and `scnb=2.0` (i.e., 1.0/2.0 = 0.5) for the 1-4 interactions."
   ]
  },
  {
   "cell_type": "code",
   "execution_count": 38,
   "metadata": {},
   "outputs": [
    {
     "data": {
      "text/plain": [
       "TrackedList([\n",
       "])"
      ]
     },
     "execution_count": 38,
     "metadata": {},
     "output_type": "execute_result"
    }
   ],
   "source": [
    "parmed_structure.improper_types"
   ]
  },
  {
   "cell_type": "markdown",
   "metadata": {},
   "source": [
    "Note the complete lack of impropers here."
   ]
  },
  {
   "cell_type": "code",
   "execution_count": 39,
   "metadata": {},
   "outputs": [],
   "source": [
    "parmed_structure.save(\"../data/benzene.smirnoff.prmtop\", overwrite=True)"
   ]
  },
  {
   "cell_type": "markdown",
   "metadata": {},
   "source": [
    "**Potential bug 2. We can't yet write a `.frcmod` because the atoms do not have names.**  There probably also should have been an error raised for writing the `.prmtop`"
   ]
  },
  {
   "cell_type": "code",
   "execution_count": 42,
   "metadata": {},
   "outputs": [
    {
     "name": "stdout",
     "output_type": "stream",
     "text": [
      "0  C1\n",
      "1  C1\n",
      "2  C1\n",
      "3  C1\n",
      "4  C1\n",
      "5  C1\n",
      "6  H1\n",
      "7  H1\n",
      "8  H1\n",
      "9  H1\n",
      "10  H1\n",
      "11  H1\n"
     ]
    }
   ],
   "source": [
    "for index, atom in enumerate(parmed_structure.atoms):\n",
    "    print(index, atom.name, atom.type)"
   ]
  },
  {
   "cell_type": "markdown",
   "metadata": {},
   "source": [
    "**Potential bug 3. We cannot write out a `.frcmod`** This error looks new to me. Not sure yet how to debug."
   ]
  },
  {
   "cell_type": "code",
   "execution_count": 44,
   "metadata": {
    "scrolled": false
   },
   "outputs": [
    {
     "ename": "ParameterError",
     "evalue": "Unequal dihedral types defined bewteen C1, C1, C1, and H1",
     "output_type": "error",
     "traceback": [
      "\u001b[0;31m---------------------------------------------------------------------------\u001b[0m",
      "\u001b[0;31mParameterError\u001b[0m                            Traceback (most recent call last)",
      "\u001b[0;32m<ipython-input-44-c2896c7969f0>\u001b[0m in \u001b[0;36m<module>\u001b[0;34m\u001b[0m\n\u001b[1;32m      2\u001b[0m     \u001b[0matom\u001b[0m\u001b[0;34m.\u001b[0m\u001b[0mname\u001b[0m \u001b[0;34m=\u001b[0m \u001b[0mindex\u001b[0m\u001b[0;34m\u001b[0m\u001b[0;34m\u001b[0m\u001b[0m\n\u001b[1;32m      3\u001b[0m \u001b[0;34m\u001b[0m\u001b[0m\n\u001b[0;32m----> 4\u001b[0;31m \u001b[0mparm_set\u001b[0m \u001b[0;34m=\u001b[0m \u001b[0mpmd\u001b[0m\u001b[0;34m.\u001b[0m\u001b[0mamber\u001b[0m\u001b[0;34m.\u001b[0m\u001b[0mAmberParameterSet\u001b[0m\u001b[0;34m.\u001b[0m\u001b[0mfrom_structure\u001b[0m\u001b[0;34m(\u001b[0m\u001b[0mparmed_structure\u001b[0m\u001b[0;34m)\u001b[0m\u001b[0;34m\u001b[0m\u001b[0;34m\u001b[0m\u001b[0m\n\u001b[0m\u001b[1;32m      5\u001b[0m \u001b[0mparm_set\u001b[0m\u001b[0;34m.\u001b[0m\u001b[0mwrite\u001b[0m\u001b[0;34m(\u001b[0m\u001b[0;34m\"../data/benzene.smirnoff.frcmod\"\u001b[0m\u001b[0;34m)\u001b[0m\u001b[0;34m\u001b[0m\u001b[0;34m\u001b[0m\u001b[0m\n",
      "\u001b[0;32m~/data/anaconda3/envs/off-dev2/lib/python3.7/site-packages/parmed/amber/parameters.py\u001b[0m in \u001b[0;36mfrom_structure\u001b[0;34m(cls, struct)\u001b[0m\n\u001b[1;32m    361\u001b[0m             \u001b[0mThe\u001b[0m \u001b[0mparameter\u001b[0m \u001b[0mset\u001b[0m \u001b[0;32mwith\u001b[0m \u001b[0mall\u001b[0m \u001b[0mparameters\u001b[0m \u001b[0mdefined\u001b[0m \u001b[0;32min\u001b[0m \u001b[0mthe\u001b[0m \u001b[0mStructure\u001b[0m\u001b[0;34m\u001b[0m\u001b[0;34m\u001b[0m\u001b[0m\n\u001b[1;32m    362\u001b[0m         \"\"\"\n\u001b[0;32m--> 363\u001b[0;31m         \u001b[0;32mreturn\u001b[0m \u001b[0msuper\u001b[0m\u001b[0;34m(\u001b[0m\u001b[0mAmberParameterSet\u001b[0m\u001b[0;34m,\u001b[0m \u001b[0mcls\u001b[0m\u001b[0;34m)\u001b[0m\u001b[0;34m.\u001b[0m\u001b[0mfrom_structure\u001b[0m\u001b[0;34m(\u001b[0m\u001b[0mstruct\u001b[0m\u001b[0;34m,\u001b[0m \u001b[0mallow_unequal_duplicates\u001b[0m\u001b[0;34m=\u001b[0m\u001b[0;32mFalse\u001b[0m\u001b[0;34m)\u001b[0m\u001b[0;34m\u001b[0m\u001b[0;34m\u001b[0m\u001b[0m\n\u001b[0m\u001b[1;32m    364\u001b[0m \u001b[0;34m\u001b[0m\u001b[0m\n\u001b[1;32m    365\u001b[0m     \u001b[0;31m#===================================================\u001b[0m\u001b[0;34m\u001b[0m\u001b[0;34m\u001b[0m\u001b[0;34m\u001b[0m\u001b[0m\n",
      "\u001b[0;32m~/data/anaconda3/envs/off-dev2/lib/python3.7/site-packages/parmed/parameters.py\u001b[0m in \u001b[0;36mfrom_structure\u001b[0;34m(cls, struct, allow_unequal_duplicates)\u001b[0m\n\u001b[1;32m    296\u001b[0m                                 \u001b[0;32mif\u001b[0m \u001b[0;32mnot\u001b[0m \u001b[0mallow_unequal_duplicates\u001b[0m \u001b[0;32mand\u001b[0m \u001b[0mt\u001b[0m \u001b[0;34m!=\u001b[0m \u001b[0mdihedral\u001b[0m\u001b[0;34m.\u001b[0m\u001b[0mtype\u001b[0m\u001b[0;34m:\u001b[0m\u001b[0;34m\u001b[0m\u001b[0;34m\u001b[0m\u001b[0m\n\u001b[1;32m    297\u001b[0m                                     raise ParameterError('Unequal dihedral types defined bewteen '\n\u001b[0;32m--> 298\u001b[0;31m                                                          '%s, %s, %s, and %s' % key)\n\u001b[0m\u001b[1;32m    299\u001b[0m                                 \u001b[0;32mbreak\u001b[0m\u001b[0;34m\u001b[0m\u001b[0;34m\u001b[0m\u001b[0m\n\u001b[1;32m    300\u001b[0m                         \u001b[0;32melse\u001b[0m\u001b[0;34m:\u001b[0m\u001b[0;34m\u001b[0m\u001b[0;34m\u001b[0m\u001b[0m\n",
      "\u001b[0;31mParameterError\u001b[0m: Unequal dihedral types defined bewteen C1, C1, C1, and H1"
     ]
    }
   ],
   "source": [
    "for index, atom in enumerate(parmed_structure.atoms):\n",
    "    atom.name = index\n",
    "    \n",
    "parm_set = pmd.amber.AmberParameterSet.from_structure(parmed_structure)\n",
    "parm_set.write(\"../data/benzene.smirnoff.frcmod\")"
   ]
  },
  {
   "cell_type": "markdown",
   "metadata": {},
   "source": [
    "**Potential bug 4.** Even if a `.frcmod` could be written, the `IMPROPER` section would be empty, which is wrong. I'm not sure if (a) they get written to the `DIHEDRAL` section and get silently ignored by AMBER (at best undefined behavior, as far as I can tell) or (b) they are just not written at all. This may be a bug upstream of ParmEd, as it looks like the OpenMM `System` also doesn't have the correct number of torsions. I'm not 100% sure I understand what is going on here."
   ]
  },
  {
   "cell_type": "code",
   "execution_count": 46,
   "metadata": {},
   "outputs": [
    {
     "name": "stdout",
     "output_type": "stream",
     "text": [
      "# packages in environment at /home/davids4/data/anaconda3/envs/off-dev2:\r\n",
      "#\r\n",
      "# Name                    Version                   Build  Channel\r\n",
      "ambermini                 16.16.0                       7    omnia\r\n",
      "atomicwrites              1.3.0                    py37_1  \r\n",
      "attrs                     19.1.0                   py37_1  \r\n",
      "backcall                  0.1.0                    py37_0  \r\n",
      "bleach                    3.1.0                    py37_0  \r\n",
      "boost                     1.68.0          py37h8619c78_1001    conda-forge\r\n",
      "boost-cpp                 1.68.0            h11c811c_1000    conda-forge\r\n",
      "bson                      0.5.8                      py_0    conda-forge\r\n",
      "bzip2                     1.0.6             h14c3975_1002    conda-forge\r\n",
      "ca-certificates           2019.3.9             hecc5488_0    conda-forge\r\n",
      "cairo                     1.16.0            ha4e643d_1000    conda-forge\r\n",
      "certifi                   2019.3.9                 py37_0  \r\n",
      "dbus                      1.13.6               he372182_0    conda-forge\r\n",
      "decorator                 4.4.0                      py_0    conda-forge\r\n",
      "defusedxml                0.6.0                      py_0  \r\n",
      "entrypoints               0.3                      py37_0  \r\n",
      "expat                     2.2.6                he6710b0_0  \r\n",
      "fftw3f                    3.3.4                         2    omnia\r\n",
      "fontconfig                2.13.1            he4413a7_1000    conda-forge\r\n",
      "freetype                  2.10.0               he983fc9_0    conda-forge\r\n",
      "gettext                   0.19.8.1          hc5be6a0_1002    conda-forge\r\n",
      "glib                      2.58.3            hf63aee3_1001    conda-forge\r\n",
      "gmp                       6.1.2                h6c8ec71_1  \r\n",
      "gst-plugins-base          1.14.4            hdf3bae2_1001    conda-forge\r\n",
      "gstreamer                 1.14.4            h66beb1c_1001    conda-forge\r\n",
      "icu                       58.2              hf484d3e_1000    conda-forge\r\n",
      "ipykernel                 5.1.0            py37h39e3cac_0  \r\n",
      "ipython                   7.5.0            py37h39e3cac_0  \r\n",
      "ipython_genutils          0.2.0                    py37_0  \r\n",
      "ipywidgets                7.4.2                    py37_0  \r\n",
      "jedi                      0.13.3                   py37_0  \r\n",
      "jinja2                    2.10.1                   py37_0  \r\n",
      "jpeg                      9c                h14c3975_1001    conda-forge\r\n",
      "jsonschema                3.0.1                    py37_0  \r\n",
      "jupyter                   1.0.0                    py37_7  \r\n",
      "jupyter_client            5.2.4                    py37_0  \r\n",
      "jupyter_console           6.0.0                    py37_0  \r\n",
      "jupyter_core              4.4.0                    py37_0  \r\n",
      "libblas                   3.8.0                8_openblas    conda-forge\r\n",
      "libcblas                  3.8.0                8_openblas    conda-forge\r\n",
      "libedit                   3.1.20181209         hc058e9b_0  \r\n",
      "libffi                    3.2.1                hd88cf55_4  \r\n",
      "libgcc                    7.2.0                h69d50b8_2    conda-forge\r\n",
      "libgcc-ng                 8.2.0                hdf63c60_1  \r\n",
      "libgfortran-ng            7.3.0                hdf63c60_0  \r\n",
      "libiconv                  1.15              h516909a_1005    conda-forge\r\n",
      "liblapack                 3.8.0                8_openblas    conda-forge\r\n",
      "libpng                    1.6.37               hed695b0_0    conda-forge\r\n",
      "libsodium                 1.0.16               h1bed415_0  \r\n",
      "libstdcxx-ng              8.2.0                hdf63c60_1  \r\n",
      "libtiff                   4.0.10            h648cc4a_1001    conda-forge\r\n",
      "libuuid                   2.32.1            h14c3975_1000    conda-forge\r\n",
      "libxcb                    1.13              h14c3975_1002    conda-forge\r\n",
      "libxml2                   2.9.9                h13577e0_0    conda-forge\r\n",
      "markupsafe                1.1.1            py37h7b6447c_0  \r\n",
      "mistune                   0.8.4            py37h7b6447c_0  \r\n",
      "more-itertools            7.0.0                    py37_0  \r\n",
      "msgpack-python            0.6.1            py37h6bb024c_0    conda-forge\r\n",
      "nbconvert                 5.5.0                      py_0  \r\n",
      "nbformat                  4.4.0                    py37_0  \r\n",
      "ncurses                   6.1                  he6710b0_1  \r\n",
      "networkx                  2.3                        py_0    conda-forge\r\n",
      "notebook                  5.7.8                    py37_0  \r\n",
      "numpy                     1.16.3           py37he5ce36f_0    conda-forge\r\n",
      "olefile                   0.46                       py_0    conda-forge\r\n",
      "openblas                  0.3.6                h6e990d7_1    conda-forge\r\n",
      "openeye-toolkits          2019.4.2                 py37_0    openeye\r\n",
      "openforcefield            0.2.2+8.gd3c1bcf           dev_0    <develop>\r\n",
      "openmm                    7.3.1           py37_cuda92_rc_2    omnia\r\n",
      "openssl                   1.1.1b               h14c3975_1    conda-forge\r\n",
      "packaging                 19.0                       py_0    conda-forge\r\n",
      "pandas                    0.24.2           py37hf484d3e_0    conda-forge\r\n",
      "pandoc                    2.2.3.2                       0  \r\n",
      "pandocfilters             1.4.2                    py37_1  \r\n",
      "parmed                    3.2.0                    py37_0    omnia\r\n",
      "parso                     0.4.0                      py_0  \r\n",
      "pcre                      8.43                 he6710b0_0  \r\n",
      "pexpect                   4.7.0                    py37_0  \r\n",
      "pickleshare               0.7.5                    py37_0  \r\n",
      "pillow                    5.3.0           py37h00a061d_1000    conda-forge\r\n",
      "pip                       19.1                     py37_0  \r\n",
      "pixman                    0.34.0            h14c3975_1003    conda-forge\r\n",
      "pluggy                    0.9.0                    py37_0  \r\n",
      "prometheus_client         0.6.0                    py37_0  \r\n",
      "prompt_toolkit            2.0.9                    py37_0  \r\n",
      "pthread-stubs             0.4               h14c3975_1001    conda-forge\r\n",
      "ptyprocess                0.6.0                    py37_0  \r\n",
      "py                        1.8.0                    py37_0  \r\n",
      "pycairo                   1.18.1           py37h2a1e443_0  \r\n",
      "pygments                  2.3.1                    py37_0  \r\n",
      "pyparsing                 2.4.0                      py_0    conda-forge\r\n",
      "pyqt                      5.9.2            py37h05f1152_2  \r\n",
      "pyrsistent                0.14.11          py37h7b6447c_0  \r\n",
      "pytest                    4.4.1                    py37_0  \r\n",
      "python                    3.7.3                h0371630_0  \r\n",
      "python-dateutil           2.8.0                      py_0    conda-forge\r\n",
      "pytz                      2019.1                     py_0    conda-forge\r\n",
      "pyyaml                    5.1              py37h14c3975_0    conda-forge\r\n",
      "pyzmq                     18.0.0           py37he6710b0_0  \r\n",
      "qt                        5.9.7                h52cfd70_1    conda-forge\r\n",
      "qtconsole                 4.4.3                    py37_0  \r\n",
      "rdkit                     2019.03.1        py37h9c20d5c_0    conda-forge\r\n",
      "readline                  7.0                  h7b6447c_5  \r\n",
      "send2trash                1.5.0                    py37_0  \r\n",
      "setuptools                41.0.1                   py37_0  \r\n",
      "sip                       4.19.8           py37hf484d3e_0  \r\n",
      "six                       1.12.0                py37_1000    conda-forge\r\n",
      "sqlite                    3.28.0               h7b6447c_0  \r\n",
      "terminado                 0.8.2                    py37_0  \r\n",
      "testpath                  0.4.2                    py37_0  \r\n",
      "tk                        8.6.8                hbc83047_0  \r\n",
      "toml                      0.10.0                     py_0    conda-forge\r\n",
      "tornado                   6.0.2            py37h7b6447c_0  \r\n",
      "traitlets                 4.3.2                    py37_0  \r\n",
      "wcwidth                   0.1.7                    py37_0  \r\n",
      "webencodings              0.5.1                    py37_1  \r\n",
      "wheel                     0.33.1                   py37_0  \r\n",
      "widgetsnbextension        3.4.2                    py37_0  \r\n",
      "xmltodict                 0.12.0                     py_0    conda-forge\r\n",
      "xorg-kbproto              1.0.7             h14c3975_1002    conda-forge\r\n",
      "xorg-libice               1.0.9             h516909a_1004    conda-forge\r\n",
      "xorg-libsm                1.2.3             h84519dc_1000    conda-forge\r\n",
      "xorg-libx11               1.6.7             h14c3975_1000    conda-forge\r\n",
      "xorg-libxau               1.0.9                h14c3975_0    conda-forge\r\n",
      "xorg-libxdmcp             1.1.3                h516909a_0    conda-forge\r\n",
      "xorg-libxext              1.3.4                h516909a_0    conda-forge\r\n",
      "xorg-libxrender           0.9.10            h516909a_1002    conda-forge\r\n",
      "xorg-renderproto          0.11.1            h14c3975_1002    conda-forge\r\n",
      "xorg-xextproto            7.3.0             h14c3975_1002    conda-forge\r\n",
      "xorg-xproto               7.0.31            h14c3975_1007    conda-forge\r\n",
      "xz                        5.2.4                h14c3975_4  \r\n",
      "yaml                      0.1.7             h14c3975_1001    conda-forge\r\n",
      "zeromq                    4.3.1                he6710b0_3  \r\n",
      "zlib                      1.2.11               h7b6447c_3  \r\n"
     ]
    }
   ],
   "source": [
    "!conda list"
   ]
  }
 ],
 "metadata": {
  "kernelspec": {
   "display_name": "Python 3",
   "language": "python",
   "name": "python3"
  },
  "language_info": {
   "codemirror_mode": {
    "name": "ipython",
    "version": 3
   },
   "file_extension": ".py",
   "mimetype": "text/x-python",
   "name": "python",
   "nbconvert_exporter": "python",
   "pygments_lexer": "ipython3",
   "version": "3.7.3"
  }
 },
 "nbformat": 4,
 "nbformat_minor": 2
}
