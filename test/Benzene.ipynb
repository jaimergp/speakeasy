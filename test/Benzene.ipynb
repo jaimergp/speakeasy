{
 "cells": [
  {
   "cell_type": "markdown",
   "metadata": {},
   "source": [
    "# The improper dihedral for benzene does not get written by ParmEd"
   ]
  },
  {
   "cell_type": "code",
   "execution_count": 1,
   "metadata": {},
   "outputs": [],
   "source": [
    "%load_ext blackcellmagic"
   ]
  },
  {
   "cell_type": "code",
   "execution_count": 2,
   "metadata": {},
   "outputs": [],
   "source": [
    "import numpy as np\n",
    "import re"
   ]
  },
  {
   "cell_type": "code",
   "execution_count": 3,
   "metadata": {},
   "outputs": [],
   "source": [
    "with open(\"../data/benzene.tripos.mol2\") as file:\n",
    "    benzenze = file.read()"
   ]
  },
  {
   "cell_type": "markdown",
   "metadata": {},
   "source": [
    "Let's create an AMBER `frcmod` for reference:\n",
    "\n",
    "\n",
    "```bash\n",
    "antechamber -fi mol2 -i benzene.tripos.mol2 -fo mol2 -o benzene.gaff.mol2\n",
    "tleap -f tleap.gaff.in\n",
    "parmchk2 -i benzene.gaff.mol2 -f mol2 -o benzene.gaff.frcmod -s 2 -a Y\n",
    "```\n",
    "\n",
    "where `tleap.gaff.in` is:\n",
    "```\n",
    "source leaprc.gaff2\n",
    "mol = loadmol2 benzene.gaff.mol2\n",
    "saveamberparm mol benzene.gaff.prmtop benzene.gaff.inpcrd\n",
    "```\n",
    "\n",
    "The contents of the GAFF2 `frcmod` file is:\n",
    "\n",
    "```\n",
    "Remark line goes here\n",
    "MASS\n",
    "ca 12.010        0.360\n",
    "ha 1.008         0.135\n",
    "\n",
    "BOND\n",
    "ca-ca  378.57   1.398\n",
    "ca-ha  395.72   1.086\n",
    "\n",
    "ANGLE\n",
    "ca-ca-ca   68.767     120.020\n",
    "ca-ca-ha   48.680     119.880\n",
    "\n",
    "DIHE\n",
    "ca-ca-ca-ca   4   14.500       180.000           2.000\n",
    "ca-ca-ca-ha   4   14.500       180.000           2.000\n",
    "ha-ca-ca-ha   4   14.500       180.000           2.000\n",
    "\n",
    "IMPROPER\n",
    "ca-ca-ca-ha         1.1          180.0         2.0          Using general improper torsional angle  X- X-ca-ha, penalty score=  6.0)\n",
    "\n",
    "NONBON\n",
    "  ca          1.8606  0.0988\n",
    "  ha          1.4735  0.0161\n",
    "\n",
    "```"
   ]
  },
  {
   "cell_type": "markdown",
   "metadata": {},
   "source": [
    "# Right (OpenFF) workflow\n",
    "\n",
    "Tripols MOL2 → OEMols → OpenMM system → MOL2, PRMTOP, FRCMOD (via ParmED)"
   ]
  },
  {
   "cell_type": "code",
   "execution_count": 1,
   "metadata": {},
   "outputs": [],
   "source": [
    "from openeye.oechem import oemolistream, OEIFlavor_MOL2_Forcefield, OEFormat_MOL2, OEMol"
   ]
  },
  {
   "cell_type": "code",
   "execution_count": 2,
   "metadata": {},
   "outputs": [],
   "source": [
    "from openforcefield.typing.engines.smirnoff import (\n",
    "    ForceField,\n",
    "    unit,\n",
    ")\n",
    "from openforcefield.topology import Molecule, Topology"
   ]
  },
  {
   "cell_type": "code",
   "execution_count": 3,
   "metadata": {},
   "outputs": [],
   "source": [
    "import parmed as pmd"
   ]
  },
  {
   "cell_type": "code",
   "execution_count": 4,
   "metadata": {},
   "outputs": [],
   "source": [
    "molecules = []\n",
    "ifs = oemolistream()\n",
    "ifs.SetFlavor(OEFormat_MOL2, OEIFlavor_MOL2_Forcefield)\n",
    "ifs.open(\"../data/benzene.tripos.mol2\")\n",
    "\n",
    "for index, mol in enumerate(ifs.GetOEMols()):\n",
    "    molecules.append(OEMol(mol))"
   ]
  },
  {
   "cell_type": "code",
   "execution_count": 7,
   "metadata": {},
   "outputs": [
    {
     "data": {
      "text/plain": [
       "[]"
      ]
     },
     "execution_count": 7,
     "metadata": {},
     "output_type": "execute_result"
    }
   ],
   "source": [
    "[i for i in benzene_pdb.topology.bonds()]"
   ]
  },
  {
   "cell_type": "code",
   "execution_count": 5,
   "metadata": {},
   "outputs": [
    {
     "name": "stdout",
     "output_type": "stream",
     "text": [
      "12\n",
      "12\n"
     ]
    },
    {
     "ename": "ValueError",
     "evalue": "No match found for molecule",
     "output_type": "error",
     "traceback": [
      "\u001b[0;31m---------------------------------------------------------------------------\u001b[0m",
      "\u001b[0;31mValueError\u001b[0m                                Traceback (most recent call last)",
      "\u001b[0;32m<ipython-input-5-c6250efe44a9>\u001b[0m in \u001b[0;36m<module>\u001b[0;34m\u001b[0m\n\u001b[1;32m      9\u001b[0m \u001b[0mprint\u001b[0m\u001b[0;34m(\u001b[0m\u001b[0mlen\u001b[0m\u001b[0;34m(\u001b[0m\u001b[0;34m[\u001b[0m\u001b[0mi\u001b[0m \u001b[0;32mfor\u001b[0m \u001b[0mi\u001b[0m \u001b[0;32min\u001b[0m \u001b[0mbenzene_pdb\u001b[0m\u001b[0;34m.\u001b[0m\u001b[0mtopology\u001b[0m\u001b[0;34m.\u001b[0m\u001b[0matoms\u001b[0m\u001b[0;34m(\u001b[0m\u001b[0;34m)\u001b[0m\u001b[0;34m]\u001b[0m\u001b[0;34m)\u001b[0m\u001b[0;34m)\u001b[0m\u001b[0;34m\u001b[0m\u001b[0;34m\u001b[0m\u001b[0m\n\u001b[1;32m     10\u001b[0m \u001b[0;34m\u001b[0m\u001b[0m\n\u001b[0;32m---> 11\u001b[0;31m \u001b[0mtopology\u001b[0m \u001b[0;34m=\u001b[0m \u001b[0mTopology\u001b[0m\u001b[0;34m.\u001b[0m\u001b[0mfrom_openmm\u001b[0m\u001b[0;34m(\u001b[0m\u001b[0mbenzene_pdb\u001b[0m\u001b[0;34m.\u001b[0m\u001b[0mtopology\u001b[0m\u001b[0;34m,\u001b[0m \u001b[0munique_molecules\u001b[0m\u001b[0;34m=\u001b[0m\u001b[0;34m[\u001b[0m\u001b[0moff_molecule\u001b[0m\u001b[0;34m]\u001b[0m\u001b[0;34m)\u001b[0m\u001b[0;34m\u001b[0m\u001b[0;34m\u001b[0m\u001b[0m\n\u001b[0m\u001b[1;32m     12\u001b[0m \u001b[0mff\u001b[0m \u001b[0;34m=\u001b[0m \u001b[0mForceField\u001b[0m\u001b[0;34m(\u001b[0m\u001b[0;34m\"smirnoff99Frosst.offxml\"\u001b[0m\u001b[0;34m)\u001b[0m\u001b[0;34m\u001b[0m\u001b[0;34m\u001b[0m\u001b[0m\n\u001b[1;32m     13\u001b[0m \u001b[0msystem\u001b[0m \u001b[0;34m=\u001b[0m \u001b[0mff\u001b[0m\u001b[0;34m.\u001b[0m\u001b[0mcreate_openmm_system\u001b[0m\u001b[0;34m(\u001b[0m\u001b[0mtopology\u001b[0m\u001b[0;34m)\u001b[0m\u001b[0;34m\u001b[0m\u001b[0;34m\u001b[0m\u001b[0m\n",
      "\u001b[0;32m~/data/anaconda3/envs/speakeasy/lib/python3.6/site-packages/openforcefield/topology/topology.py\u001b[0m in \u001b[0;36mfrom_openmm\u001b[0;34m(cls, openmm_topology, unique_molecules)\u001b[0m\n\u001b[1;32m   1531\u001b[0m                 \u001b[0;31m# TODO: We should make this message way more informative. Maybe take the unmatched subgraph and\u001b[0m\u001b[0;34m\u001b[0m\u001b[0;34m\u001b[0m\u001b[0;34m\u001b[0m\u001b[0m\n\u001b[1;32m   1532\u001b[0m                 \u001b[0;31m#       print the result of Molecule.from_networkx (which we need to implement)?\u001b[0m\u001b[0;34m\u001b[0m\u001b[0;34m\u001b[0m\u001b[0;34m\u001b[0m\u001b[0m\n\u001b[0;32m-> 1533\u001b[0;31m                 \u001b[0;32mraise\u001b[0m \u001b[0mValueError\u001b[0m\u001b[0;34m(\u001b[0m\u001b[0;34mf'No match found for molecule'\u001b[0m \u001b[0;34m+\u001b[0m \u001b[0mstr\u001b[0m\u001b[0;34m(\u001b[0m\u001b[0momm_mol_G\u001b[0m\u001b[0;34m)\u001b[0m\u001b[0;34m)\u001b[0m\u001b[0;34m\u001b[0m\u001b[0;34m\u001b[0m\u001b[0m\n\u001b[0m\u001b[1;32m   1534\u001b[0m \u001b[0;34m\u001b[0m\u001b[0m\n\u001b[1;32m   1535\u001b[0m         \u001b[0;31m# The connected_component_subgraph function above may have scrambled the molecule order, so sort molecules\u001b[0m\u001b[0;34m\u001b[0m\u001b[0;34m\u001b[0m\u001b[0;34m\u001b[0m\u001b[0m\n",
      "\u001b[0;31mValueError\u001b[0m: No match found for molecule"
     ]
    }
   ],
   "source": [
    "#off_molecule = Molecule.from_openeye(molecules[0])\n",
    "off_molecule = Molecule.from_smiles('c1ccccc1')\n",
    "print(off_molecule.n_atoms)\n",
    "#topology = Topology.from_molecules([off_molecule])\n",
    "benzene = pmd.load_file(\"../data/benzene.tripos.mol2\")\n",
    "#benzene.save(\"../data/benzene.pdb\", overwrite=True)\n",
    "from simtk.openmm.app import PDBFile\n",
    "benzene_pdb = PDBFile(\"../data/benzene.pdb\")\n",
    "print(len([i for i in benzene_pdb.topology.atoms()]))\n",
    "\n",
    "topology = Topology.from_openmm(benzene_pdb.topology, unique_molecules=[off_molecule])\n",
    "ff = ForceField(\"smirnoff99Frosst.offxml\")\n",
    "system = ff.create_openmm_system(topology)"
   ]
  },
  {
   "cell_type": "markdown",
   "metadata": {},
   "source": [
    "Now, bootup ParmEd"
   ]
  },
  {
   "cell_type": "code",
   "execution_count": 56,
   "metadata": {},
   "outputs": [],
   "source": []
  },
  {
   "cell_type": "code",
   "execution_count": 84,
   "metadata": {},
   "outputs": [
    {
     "data": {
      "text/plain": [
       "12"
      ]
     },
     "execution_count": 84,
     "metadata": {},
     "output_type": "execute_result"
    }
   ],
   "source": []
  },
  {
   "cell_type": "code",
   "execution_count": 61,
   "metadata": {},
   "outputs": [],
   "source": []
  },
  {
   "cell_type": "code",
   "execution_count": 63,
   "metadata": {},
   "outputs": [],
   "source": []
  },
  {
   "cell_type": "code",
   "execution_count": 66,
   "metadata": {},
   "outputs": [],
   "source": [
    "parmed_structure = pmd.openmm.load_topology(benzene_pdb.topology, system)"
   ]
  },
  {
   "cell_type": "code",
   "execution_count": 74,
   "metadata": {},
   "outputs": [
    {
     "name": "stdout",
     "output_type": "stream",
     "text": [
      "C\n",
      "C1\n",
      "C2\n",
      "C3\n",
      "C4\n",
      "C5\n",
      "H\n",
      "H1\n",
      "H2\n",
      "H3\n",
      "H4\n",
      "H5\n"
     ]
    }
   ],
   "source": [
    "for atom in benzene_pdb.topology.atoms():\n",
    "    print(atom.name)"
   ]
  },
  {
   "cell_type": "code",
   "execution_count": 67,
   "metadata": {},
   "outputs": [],
   "source": [
    "parmed_structure.save(\"../data/benzene.smirnoff.prmtop\")"
   ]
  },
  {
   "cell_type": "code",
   "execution_count": 68,
   "metadata": {},
   "outputs": [
    {
     "ename": "ParameterError",
     "evalue": "Unequal dihedral types defined bewteen C1, C1, C1, and C1",
     "output_type": "error",
     "traceback": [
      "\u001b[0;31m---------------------------------------------------------------------------\u001b[0m",
      "\u001b[0;31mParameterError\u001b[0m                            Traceback (most recent call last)",
      "\u001b[0;32m<ipython-input-68-1f2cf95efa69>\u001b[0m in \u001b[0;36m<module>\u001b[0;34m\u001b[0m\n\u001b[0;32m----> 1\u001b[0;31m \u001b[0mpmd\u001b[0m\u001b[0;34m.\u001b[0m\u001b[0mtools\u001b[0m\u001b[0;34m.\u001b[0m\u001b[0mwriteFrcmod\u001b[0m\u001b[0;34m(\u001b[0m\u001b[0mpmd\u001b[0m\u001b[0;34m.\u001b[0m\u001b[0mload_file\u001b[0m\u001b[0;34m(\u001b[0m\u001b[0;34m\"../data/benzene.smirnoff.prmtop\"\u001b[0m\u001b[0;34m)\u001b[0m\u001b[0;34m,\u001b[0m \u001b[0;34m\"../data/benzene.smirnoff.frcmod\"\u001b[0m\u001b[0;34m)\u001b[0m\u001b[0;34m.\u001b[0m\u001b[0mexecute\u001b[0m\u001b[0;34m(\u001b[0m\u001b[0;34m)\u001b[0m\u001b[0;34m\u001b[0m\u001b[0;34m\u001b[0m\u001b[0m\n\u001b[0m",
      "\u001b[0;32m~/data/anaconda3/envs/speakeasy/lib/python3.6/site-packages/parmed/tools/actions.py\u001b[0m in \u001b[0;36mexecute\u001b[0;34m(self)\u001b[0m\n\u001b[1;32m    342\u001b[0m         \u001b[0;32mif\u001b[0m \u001b[0;32mnot\u001b[0m \u001b[0mAction\u001b[0m\u001b[0;34m.\u001b[0m\u001b[0moverwrite\u001b[0m \u001b[0;32mand\u001b[0m \u001b[0mos\u001b[0m\u001b[0;34m.\u001b[0m\u001b[0mpath\u001b[0m\u001b[0;34m.\u001b[0m\u001b[0mexists\u001b[0m\u001b[0;34m(\u001b[0m\u001b[0mself\u001b[0m\u001b[0;34m.\u001b[0m\u001b[0mfrcmod_name\u001b[0m\u001b[0;34m)\u001b[0m\u001b[0;34m:\u001b[0m\u001b[0;34m\u001b[0m\u001b[0;34m\u001b[0m\u001b[0m\n\u001b[1;32m    343\u001b[0m             \u001b[0;32mraise\u001b[0m \u001b[0mFileExists\u001b[0m\u001b[0;34m(\u001b[0m\u001b[0;34m'%s exists; not overwriting'\u001b[0m \u001b[0;34m%\u001b[0m \u001b[0mself\u001b[0m\u001b[0;34m.\u001b[0m\u001b[0mfrcmod_name\u001b[0m\u001b[0;34m)\u001b[0m\u001b[0;34m\u001b[0m\u001b[0;34m\u001b[0m\u001b[0m\n\u001b[0;32m--> 344\u001b[0;31m         \u001b[0mparmset\u001b[0m \u001b[0;34m=\u001b[0m \u001b[0mAmberParameterSet\u001b[0m\u001b[0;34m.\u001b[0m\u001b[0mfrom_structure\u001b[0m\u001b[0;34m(\u001b[0m\u001b[0mself\u001b[0m\u001b[0;34m.\u001b[0m\u001b[0mparm\u001b[0m\u001b[0;34m)\u001b[0m\u001b[0;34m\u001b[0m\u001b[0;34m\u001b[0m\u001b[0m\n\u001b[0m\u001b[1;32m    345\u001b[0m         \u001b[0mtitle\u001b[0m \u001b[0;34m=\u001b[0m \u001b[0;34m'Force field parameters from %s'\u001b[0m \u001b[0;34m%\u001b[0m \u001b[0mos\u001b[0m\u001b[0;34m.\u001b[0m\u001b[0mpath\u001b[0m\u001b[0;34m.\u001b[0m\u001b[0msplit\u001b[0m\u001b[0;34m(\u001b[0m\u001b[0mstr\u001b[0m\u001b[0;34m(\u001b[0m\u001b[0mself\u001b[0m\u001b[0;34m.\u001b[0m\u001b[0mparm\u001b[0m\u001b[0;34m)\u001b[0m\u001b[0;34m)\u001b[0m\u001b[0;34m[\u001b[0m\u001b[0;36m1\u001b[0m\u001b[0;34m]\u001b[0m\u001b[0;34m\u001b[0m\u001b[0;34m\u001b[0m\u001b[0m\n\u001b[1;32m    346\u001b[0m         \u001b[0mparmset\u001b[0m\u001b[0;34m.\u001b[0m\u001b[0mwrite\u001b[0m\u001b[0;34m(\u001b[0m\u001b[0mself\u001b[0m\u001b[0;34m.\u001b[0m\u001b[0mfrcmod_name\u001b[0m\u001b[0;34m,\u001b[0m \u001b[0mtitle\u001b[0m\u001b[0;34m=\u001b[0m\u001b[0mtitle\u001b[0m\u001b[0;34m)\u001b[0m\u001b[0;34m\u001b[0m\u001b[0;34m\u001b[0m\u001b[0m\n",
      "\u001b[0;32m~/data/anaconda3/envs/speakeasy/lib/python3.6/site-packages/parmed/amber/parameters.py\u001b[0m in \u001b[0;36mfrom_structure\u001b[0;34m(cls, struct)\u001b[0m\n\u001b[1;32m    361\u001b[0m             \u001b[0mThe\u001b[0m \u001b[0mparameter\u001b[0m \u001b[0mset\u001b[0m \u001b[0;32mwith\u001b[0m \u001b[0mall\u001b[0m \u001b[0mparameters\u001b[0m \u001b[0mdefined\u001b[0m \u001b[0;32min\u001b[0m \u001b[0mthe\u001b[0m \u001b[0mStructure\u001b[0m\u001b[0;34m\u001b[0m\u001b[0;34m\u001b[0m\u001b[0m\n\u001b[1;32m    362\u001b[0m         \"\"\"\n\u001b[0;32m--> 363\u001b[0;31m         \u001b[0;32mreturn\u001b[0m \u001b[0msuper\u001b[0m\u001b[0;34m(\u001b[0m\u001b[0mAmberParameterSet\u001b[0m\u001b[0;34m,\u001b[0m \u001b[0mcls\u001b[0m\u001b[0;34m)\u001b[0m\u001b[0;34m.\u001b[0m\u001b[0mfrom_structure\u001b[0m\u001b[0;34m(\u001b[0m\u001b[0mstruct\u001b[0m\u001b[0;34m,\u001b[0m \u001b[0mallow_unequal_duplicates\u001b[0m\u001b[0;34m=\u001b[0m\u001b[0;32mFalse\u001b[0m\u001b[0;34m)\u001b[0m\u001b[0;34m\u001b[0m\u001b[0;34m\u001b[0m\u001b[0m\n\u001b[0m\u001b[1;32m    364\u001b[0m \u001b[0;34m\u001b[0m\u001b[0m\n\u001b[1;32m    365\u001b[0m     \u001b[0;31m#===================================================\u001b[0m\u001b[0;34m\u001b[0m\u001b[0;34m\u001b[0m\u001b[0;34m\u001b[0m\u001b[0m\n",
      "\u001b[0;32m~/data/anaconda3/envs/speakeasy/lib/python3.6/site-packages/parmed/parameters.py\u001b[0m in \u001b[0;36mfrom_structure\u001b[0;34m(cls, struct, allow_unequal_duplicates)\u001b[0m\n\u001b[1;32m    296\u001b[0m                                 \u001b[0;32mif\u001b[0m \u001b[0;32mnot\u001b[0m \u001b[0mallow_unequal_duplicates\u001b[0m \u001b[0;32mand\u001b[0m \u001b[0mt\u001b[0m \u001b[0;34m!=\u001b[0m \u001b[0mdihedral\u001b[0m\u001b[0;34m.\u001b[0m\u001b[0mtype\u001b[0m\u001b[0;34m:\u001b[0m\u001b[0;34m\u001b[0m\u001b[0;34m\u001b[0m\u001b[0m\n\u001b[1;32m    297\u001b[0m                                     raise ParameterError('Unequal dihedral types defined bewteen '\n\u001b[0;32m--> 298\u001b[0;31m                                                          '%s, %s, %s, and %s' % key)\n\u001b[0m\u001b[1;32m    299\u001b[0m                                 \u001b[0;32mbreak\u001b[0m\u001b[0;34m\u001b[0m\u001b[0;34m\u001b[0m\u001b[0m\n\u001b[1;32m    300\u001b[0m                         \u001b[0;32melse\u001b[0m\u001b[0;34m:\u001b[0m\u001b[0;34m\u001b[0m\u001b[0;34m\u001b[0m\u001b[0m\n",
      "\u001b[0;31mParameterError\u001b[0m: Unequal dihedral types defined bewteen C1, C1, C1, and C1"
     ]
    }
   ],
   "source": [
    "pmd.tools.writeFrcmod(pmd.load_file(\"../data/benzene.smirnoff.prmtop\"), \"../data/benzene.smirnoff.frcmod\").execute()"
   ]
  },
  {
   "cell_type": "code",
   "execution_count": null,
   "metadata": {},
   "outputs": [],
   "source": []
  },
  {
   "cell_type": "code",
   "execution_count": 45,
   "metadata": {},
   "outputs": [],
   "source": [
    "from simtk.openmm import XmlSerializer"
   ]
  },
  {
   "cell_type": "code",
   "execution_count": 46,
   "metadata": {},
   "outputs": [],
   "source": [
    "import pprint"
   ]
  },
  {
   "cell_type": "code",
   "execution_count": 51,
   "metadata": {},
   "outputs": [
    {
     "name": "stdout",
     "output_type": "stream",
     "text": [
      "('<?xml version=\"1.0\" ?>\\n'\n",
      " '<System openmmVersion=\"7.3.1\" type=\"System\" version=\"1\">\\n'\n",
      " '\\t<PeriodicBoxVectors>\\n'\n",
      " '\\t\\t<A x=\"2\" y=\"0\" z=\"0\"/>\\n'\n",
      " '\\t\\t<B x=\"0\" y=\"2\" z=\"0\"/>\\n'\n",
      " '\\t\\t<C x=\"0\" y=\"0\" z=\"2\"/>\\n'\n",
      " '\\t</PeriodicBoxVectors>\\n'\n",
      " '\\t<Particles>\\n'\n",
      " '\\t\\t<Particle mass=\"12.01078\"/>\\n'\n",
      " '\\t\\t<Particle mass=\"12.01078\"/>\\n'\n",
      " '\\t\\t<Particle mass=\"12.01078\"/>\\n'\n",
      " '\\t\\t<Particle mass=\"12.01078\"/>\\n'\n",
      " '\\t\\t<Particle mass=\"12.01078\"/>\\n'\n",
      " '\\t\\t<Particle mass=\"12.01078\"/>\\n'\n",
      " '\\t\\t<Particle mass=\"1.007947\"/>\\n'\n",
      " '\\t\\t<Particle mass=\"1.007947\"/>\\n'\n",
      " '\\t\\t<Particle mass=\"1.007947\"/>\\n'\n",
      " '\\t\\t<Particle mass=\"1.007947\"/>\\n'\n",
      " '\\t\\t<Particle mass=\"1.007947\"/>\\n'\n",
      " '\\t\\t<Particle mass=\"1.007947\"/>\\n'\n",
      " '\\t</Particles>\\n'\n",
      " '\\t<Constraints/>\\n'\n",
      " '\\t<Forces>\\n'\n",
      " '\\t\\t<Force alpha=\"0\" cutoff=\"1\" dispersionCorrection=\"1\" '\n",
      " 'ewaldTolerance=\".0005\" forceGroup=\"0\" ljAlpha=\"0\" ljnx=\"0\" ljny=\"0\" ljnz=\"0\" '\n",
      " 'method=\"0\" nx=\"0\" ny=\"0\" nz=\"0\" recipForceGroup=\"-1\" rfDielectric=\"78.3\" '\n",
      " 'switchingDistance=\"-1\" type=\"NonbondedForce\" useSwitchingFunction=\"0\" '\n",
      " 'version=\"3\">\\n'\n",
      " '\\t\\t\\t<GlobalParameters/>\\n'\n",
      " '\\t\\t\\t<ParticleOffsets/>\\n'\n",
      " '\\t\\t\\t<ExceptionOffsets/>\\n'\n",
      " '\\t\\t\\t<Particles>\\n'\n",
      " '\\t\\t\\t\\t<Particle eps=\".359824\" q=\"-.1301400065422058\" '\n",
      " 'sig=\".3399669508423535\"/>\\n'\n",
      " '\\t\\t\\t\\t<Particle eps=\".359824\" q=\"-.13007999956607819\" '\n",
      " 'sig=\".3399669508423535\"/>\\n'\n",
      " '\\t\\t\\t\\t<Particle eps=\".359824\" q=\"-.13007999956607819\" '\n",
      " 'sig=\".3399669508423535\"/>\\n'\n",
      " '\\t\\t\\t\\t<Particle eps=\".359824\" q=\"-.13007999956607819\" '\n",
      " 'sig=\".3399669508423535\"/>\\n'\n",
      " '\\t\\t\\t\\t<Particle eps=\".359824\" q=\"-.13007999956607819\" '\n",
      " 'sig=\".3399669508423535\"/>\\n'\n",
      " '\\t\\t\\t\\t<Particle eps=\".359824\" q=\"-.13007999956607819\" '\n",
      " 'sig=\".3399669508423535\"/>\\n'\n",
      " '\\t\\t\\t\\t<Particle eps=\".06276\" q=\".13008999824523926\" '\n",
      " 'sig=\".25996424595335105\"/>\\n'\n",
      " '\\t\\t\\t\\t<Particle eps=\".06276\" q=\".13008999824523926\" '\n",
      " 'sig=\".25996424595335105\"/>\\n'\n",
      " '\\t\\t\\t\\t<Particle eps=\".06276\" q=\".13008999824523926\" '\n",
      " 'sig=\".25996424595335105\"/>\\n'\n",
      " '\\t\\t\\t\\t<Particle eps=\".06276\" q=\".13008999824523926\" '\n",
      " 'sig=\".25996424595335105\"/>\\n'\n",
      " '\\t\\t\\t\\t<Particle eps=\".06276\" q=\".13008999824523926\" '\n",
      " 'sig=\".25996424595335105\"/>\\n'\n",
      " '\\t\\t\\t\\t<Particle eps=\".06276\" q=\".13008999824523926\" '\n",
      " 'sig=\".25996424595335105\"/>\\n'\n",
      " '\\t\\t\\t</Particles>\\n'\n",
      " '\\t\\t\\t<Exceptions>\\n'\n",
      " '\\t\\t\\t\\t<Exception eps=\"0\" p1=\"0\" p2=\"1\" q=\"0\" sig=\"1\"/>\\n'\n",
      " '\\t\\t\\t\\t<Exception eps=\"0\" p1=\"0\" p2=\"2\" q=\"0\" sig=\"1\"/>\\n'\n",
      " '\\t\\t\\t\\t<Exception eps=\"0\" p1=\"1\" p2=\"2\" q=\"0\" sig=\"1\"/>\\n'\n",
      " '\\t\\t\\t\\t<Exception eps=\"0\" p1=\"0\" p2=\"3\" q=\"0\" sig=\"1\"/>\\n'\n",
      " '\\t\\t\\t\\t<Exception eps=\"0\" p1=\"1\" p2=\"3\" q=\"0\" sig=\"1\"/>\\n'\n",
      " '\\t\\t\\t\\t<Exception eps=\".179912\" p1=\"2\" p2=\"3\" q=\".014100615503238127\" '\n",
      " 'sig=\".3399669508423535\"/>\\n'\n",
      " '\\t\\t\\t\\t<Exception eps=\"0\" p1=\"0\" p2=\"4\" q=\"0\" sig=\"1\"/>\\n'\n",
      " '\\t\\t\\t\\t<Exception eps=\".179912\" p1=\"1\" p2=\"4\" q=\".014100615503238127\" '\n",
      " 'sig=\".3399669508423535\"/>\\n'\n",
      " '\\t\\t\\t\\t<Exception eps=\"0\" p1=\"2\" p2=\"4\" q=\"0\" sig=\"1\"/>\\n'\n",
      " '\\t\\t\\t\\t<Exception eps=\"0\" p1=\"3\" p2=\"4\" q=\"0\" sig=\"1\"/>\\n'\n",
      " '\\t\\t\\t\\t<Exception eps=\".179912\" p1=\"0\" p2=\"5\" q=\".01410712023340964\" '\n",
      " 'sig=\".3399669508423535\"/>\\n'\n",
      " '\\t\\t\\t\\t<Exception eps=\"0\" p1=\"1\" p2=\"5\" q=\"0\" sig=\"1\"/>\\n'\n",
      " '\\t\\t\\t\\t<Exception eps=\"0\" p1=\"2\" p2=\"5\" q=\"0\" sig=\"1\"/>\\n'\n",
      " '\\t\\t\\t\\t<Exception eps=\"0\" p1=\"3\" p2=\"5\" q=\"0\" sig=\"1\"/>\\n'\n",
      " '\\t\\t\\t\\t<Exception eps=\"0\" p1=\"4\" p2=\"5\" q=\"0\" sig=\"1\"/>\\n'\n",
      " '\\t\\t\\t\\t<Exception eps=\"0\" p1=\"0\" p2=\"6\" q=\"0\" sig=\"1\"/>\\n'\n",
      " '\\t\\t\\t\\t<Exception eps=\"0\" p1=\"1\" p2=\"6\" q=\"0\" sig=\"1\"/>\\n'\n",
      " '\\t\\t\\t\\t<Exception eps=\"0\" p1=\"2\" p2=\"6\" q=\"0\" sig=\"1\"/>\\n'\n",
      " '\\t\\t\\t\\t<Exception eps=\".07513746442354838\" p1=\"3\" p2=\"6\" '\n",
      " 'q=\"-.014101699355720145\" sig=\".2999655983978523\"/>\\n'\n",
      " '\\t\\t\\t\\t<Exception eps=\".07513746442354838\" p1=\"4\" p2=\"6\" '\n",
      " 'q=\"-.014101699355720145\" sig=\".2999655983978523\"/>\\n'\n",
      " '\\t\\t\\t\\t<Exception eps=\"0\" p1=\"0\" p2=\"7\" q=\"0\" sig=\"1\"/>\\n'\n",
      " '\\t\\t\\t\\t<Exception eps=\"0\" p1=\"1\" p2=\"7\" q=\"0\" sig=\"1\"/>\\n'\n",
      " '\\t\\t\\t\\t<Exception eps=\".07513746442354838\" p1=\"2\" p2=\"7\" '\n",
      " 'q=\"-.014101699355720145\" sig=\".2999655983978523\"/>\\n'\n",
      " '\\t\\t\\t\\t<Exception eps=\"0\" p1=\"3\" p2=\"7\" q=\"0\" sig=\"1\"/>\\n'\n",
      " '\\t\\t\\t\\t<Exception eps=\".07513746442354838\" p1=\"5\" p2=\"7\" '\n",
      " 'q=\"-.014101699355720145\" sig=\".2999655983978523\"/>\\n'\n",
      " '\\t\\t\\t\\t<Exception eps=\".03138\" p1=\"6\" p2=\"7\" q=\".01410278329151315\" '\n",
      " 'sig=\".25996424595335105\"/>\\n'\n",
      " '\\t\\t\\t\\t<Exception eps=\"0\" p1=\"0\" p2=\"8\" q=\"0\" sig=\"1\"/>\\n'\n",
      " '\\t\\t\\t\\t<Exception eps=\".07513746442354838\" p1=\"1\" p2=\"8\" '\n",
      " 'q=\"-.014101699355720145\" sig=\".2999655983978523\"/>\\n'\n",
      " '\\t\\t\\t\\t<Exception eps=\"0\" p1=\"2\" p2=\"8\" q=\"0\" sig=\"1\"/>\\n'\n",
      " '\\t\\t\\t\\t<Exception eps=\"0\" p1=\"4\" p2=\"8\" q=\"0\" sig=\"1\"/>\\n'\n",
      " '\\t\\t\\t\\t<Exception eps=\".07513746442354838\" p1=\"5\" p2=\"8\" '\n",
      " 'q=\"-.014101699355720145\" sig=\".2999655983978523\"/>\\n'\n",
      " '\\t\\t\\t\\t<Exception eps=\".03138\" p1=\"6\" p2=\"8\" q=\".01410278329151315\" '\n",
      " 'sig=\".25996424595335105\"/>\\n'\n",
      " '\\t\\t\\t\\t<Exception eps=\".07513746442354838\" p1=\"0\" p2=\"9\" '\n",
      " 'q=\"-.014108204585881742\" sig=\".2999655983978523\"/>\\n'\n",
      " '\\t\\t\\t\\t<Exception eps=\"0\" p1=\"1\" p2=\"9\" q=\"0\" sig=\"1\"/>\\n'\n",
      " '\\t\\t\\t\\t<Exception eps=\"0\" p1=\"3\" p2=\"9\" q=\"0\" sig=\"1\"/>\\n'\n",
      " '\\t\\t\\t\\t<Exception eps=\".07513746442354838\" p1=\"4\" p2=\"9\" '\n",
      " 'q=\"-.014101699355720145\" sig=\".2999655983978523\"/>\\n'\n",
      " '\\t\\t\\t\\t<Exception eps=\"0\" p1=\"5\" p2=\"9\" q=\"0\" sig=\"1\"/>\\n'\n",
      " '\\t\\t\\t\\t<Exception eps=\".03138\" p1=\"7\" p2=\"9\" q=\".01410278329151315\" '\n",
      " 'sig=\".25996424595335105\"/>\\n'\n",
      " '\\t\\t\\t\\t<Exception eps=\".07513746442354838\" p1=\"0\" p2=\"10\" '\n",
      " 'q=\"-.014108204585881742\" sig=\".2999655983978523\"/>\\n'\n",
      " '\\t\\t\\t\\t<Exception eps=\"0\" p1=\"2\" p2=\"10\" q=\"0\" sig=\"1\"/>\\n'\n",
      " '\\t\\t\\t\\t<Exception eps=\".07513746442354838\" p1=\"3\" p2=\"10\" '\n",
      " 'q=\"-.014101699355720145\" sig=\".2999655983978523\"/>\\n'\n",
      " '\\t\\t\\t\\t<Exception eps=\"0\" p1=\"4\" p2=\"10\" q=\"0\" sig=\"1\"/>\\n'\n",
      " '\\t\\t\\t\\t<Exception eps=\"0\" p1=\"5\" p2=\"10\" q=\"0\" sig=\"1\"/>\\n'\n",
      " '\\t\\t\\t\\t<Exception eps=\".03138\" p1=\"8\" p2=\"10\" q=\".01410278329151315\" '\n",
      " 'sig=\".25996424595335105\"/>\\n'\n",
      " '\\t\\t\\t\\t<Exception eps=\".07513746442354838\" p1=\"1\" p2=\"11\" '\n",
      " 'q=\"-.014101699355720145\" sig=\".2999655983978523\"/>\\n'\n",
      " '\\t\\t\\t\\t<Exception eps=\".07513746442354838\" p1=\"2\" p2=\"11\" '\n",
      " 'q=\"-.014101699355720145\" sig=\".2999655983978523\"/>\\n'\n",
      " '\\t\\t\\t\\t<Exception eps=\"0\" p1=\"3\" p2=\"11\" q=\"0\" sig=\"1\"/>\\n'\n",
      " '\\t\\t\\t\\t<Exception eps=\"0\" p1=\"4\" p2=\"11\" q=\"0\" sig=\"1\"/>\\n'\n",
      " '\\t\\t\\t\\t<Exception eps=\"0\" p1=\"5\" p2=\"11\" q=\"0\" sig=\"1\"/>\\n'\n",
      " '\\t\\t\\t\\t<Exception eps=\".03138\" p1=\"9\" p2=\"11\" q=\".01410278329151315\" '\n",
      " 'sig=\".25996424595335105\"/>\\n'\n",
      " '\\t\\t\\t\\t<Exception eps=\".03138\" p1=\"10\" p2=\"11\" q=\".01410278329151315\" '\n",
      " 'sig=\".25996424595335105\"/>\\n'\n",
      " '\\t\\t\\t</Exceptions>\\n'\n",
      " '\\t\\t</Force>\\n'\n",
      " '\\t\\t<Force forceGroup=\"0\" type=\"PeriodicTorsionForce\" usesPeriodic=\"0\" '\n",
      " 'version=\"2\">\\n'\n",
      " '\\t\\t\\t<Torsions>\\n'\n",
      " '\\t\\t\\t\\t<Torsion k=\"1.5341333333333336\" p1=\"1\" p2=\"0\" p3=\"3\" p4=\"7\" '\n",
      " 'periodicity=\"2\" phase=\"3.141592653589793\"/>\\n'\n",
      " '\\t\\t\\t\\t<Torsion k=\"1.5341333333333336\" p1=\"1\" p2=\"3\" p3=\"7\" p4=\"0\" '\n",
      " 'periodicity=\"2\" phase=\"3.141592653589793\"/>\\n'\n",
      " '\\t\\t\\t\\t<Torsion k=\"1.5341333333333336\" p1=\"1\" p2=\"7\" p3=\"0\" p4=\"3\" '\n",
      " 'periodicity=\"2\" phase=\"3.141592653589793\"/>\\n'\n",
      " '\\t\\t\\t\\t<Torsion k=\"1.5341333333333336\" p1=\"2\" p2=\"0\" p3=\"4\" p4=\"8\" '\n",
      " 'periodicity=\"2\" phase=\"3.141592653589793\"/>\\n'\n",
      " '\\t\\t\\t\\t<Torsion k=\"1.5341333333333336\" p1=\"2\" p2=\"4\" p3=\"8\" p4=\"0\" '\n",
      " 'periodicity=\"2\" phase=\"3.141592653589793\"/>\\n'\n",
      " '\\t\\t\\t\\t<Torsion k=\"1.5341333333333336\" p1=\"2\" p2=\"8\" p3=\"0\" p4=\"4\" '\n",
      " 'periodicity=\"2\" phase=\"3.141592653589793\"/>\\n'\n",
      " '\\t\\t\\t\\t<Torsion k=\"1.5341333333333336\" p1=\"0\" p2=\"1\" p3=\"2\" p4=\"6\" '\n",
      " 'periodicity=\"2\" phase=\"3.141592653589793\"/>\\n'\n",
      " '\\t\\t\\t\\t<Torsion k=\"1.5341333333333336\" p1=\"0\" p2=\"2\" p3=\"6\" p4=\"1\" '\n",
      " 'periodicity=\"2\" phase=\"3.141592653589793\"/>\\n'\n",
      " '\\t\\t\\t\\t<Torsion k=\"1.5341333333333336\" p1=\"0\" p2=\"6\" p3=\"1\" p4=\"2\" '\n",
      " 'periodicity=\"2\" phase=\"3.141592653589793\"/>\\n'\n",
      " '\\t\\t\\t\\t<Torsion k=\"1.5341333333333336\" p1=\"3\" p2=\"1\" p3=\"5\" p4=\"9\" '\n",
      " 'periodicity=\"2\" phase=\"3.141592653589793\"/>\\n'\n",
      " '\\t\\t\\t\\t<Torsion k=\"1.5341333333333336\" p1=\"3\" p2=\"5\" p3=\"9\" p4=\"1\" '\n",
      " 'periodicity=\"2\" phase=\"3.141592653589793\"/>\\n'\n",
      " '\\t\\t\\t\\t<Torsion k=\"1.5341333333333336\" p1=\"3\" p2=\"9\" p3=\"1\" p4=\"5\" '\n",
      " 'periodicity=\"2\" phase=\"3.141592653589793\"/>\\n'\n",
      " '\\t\\t\\t\\t<Torsion k=\"1.5341333333333336\" p1=\"4\" p2=\"2\" p3=\"5\" p4=\"10\" '\n",
      " 'periodicity=\"2\" phase=\"3.141592653589793\"/>\\n'\n",
      " '\\t\\t\\t\\t<Torsion k=\"1.5341333333333336\" p1=\"4\" p2=\"5\" p3=\"10\" p4=\"2\" '\n",
      " 'periodicity=\"2\" phase=\"3.141592653589793\"/>\\n'\n",
      " '\\t\\t\\t\\t<Torsion k=\"1.5341333333333336\" p1=\"4\" p2=\"10\" p3=\"2\" p4=\"5\" '\n",
      " 'periodicity=\"2\" phase=\"3.141592653589793\"/>\\n'\n",
      " '\\t\\t\\t\\t<Torsion k=\"1.5341333333333336\" p1=\"5\" p2=\"3\" p3=\"4\" p4=\"11\" '\n",
      " 'periodicity=\"2\" phase=\"3.141592653589793\"/>\\n'\n",
      " '\\t\\t\\t\\t<Torsion k=\"1.5341333333333336\" p1=\"5\" p2=\"4\" p3=\"11\" p4=\"3\" '\n",
      " 'periodicity=\"2\" phase=\"3.141592653589793\"/>\\n'\n",
      " '\\t\\t\\t\\t<Torsion k=\"1.5341333333333336\" p1=\"5\" p2=\"11\" p3=\"3\" p4=\"4\" '\n",
      " 'periodicity=\"2\" phase=\"3.141592653589793\"/>\\n'\n",
      " '\\t\\t\\t\\t<Torsion k=\"15.167\" p1=\"0\" p2=\"1\" p3=\"3\" p4=\"5\" periodicity=\"2\" '\n",
      " 'phase=\"3.141592653589793\"/>\\n'\n",
      " '\\t\\t\\t\\t<Torsion k=\"15.167\" p1=\"0\" p2=\"1\" p3=\"3\" p4=\"9\" periodicity=\"2\" '\n",
      " 'phase=\"3.141592653589793\"/>\\n'\n",
      " '\\t\\t\\t\\t<Torsion k=\"15.167\" p1=\"0\" p2=\"2\" p3=\"4\" p4=\"5\" periodicity=\"2\" '\n",
      " 'phase=\"3.141592653589793\"/>\\n'\n",
      " '\\t\\t\\t\\t<Torsion k=\"15.167\" p1=\"0\" p2=\"2\" p3=\"4\" p4=\"10\" periodicity=\"2\" '\n",
      " 'phase=\"3.141592653589793\"/>\\n'\n",
      " '\\t\\t\\t\\t<Torsion k=\"15.167\" p1=\"1\" p2=\"0\" p3=\"2\" p4=\"4\" periodicity=\"2\" '\n",
      " 'phase=\"3.141592653589793\"/>\\n'\n",
      " '\\t\\t\\t\\t<Torsion k=\"15.167\" p1=\"1\" p2=\"0\" p3=\"2\" p4=\"8\" periodicity=\"2\" '\n",
      " 'phase=\"3.141592653589793\"/>\\n'\n",
      " '\\t\\t\\t\\t<Torsion k=\"15.167\" p1=\"1\" p2=\"3\" p3=\"5\" p4=\"4\" periodicity=\"2\" '\n",
      " 'phase=\"3.141592653589793\"/>\\n'\n",
      " '\\t\\t\\t\\t<Torsion k=\"15.167\" p1=\"1\" p2=\"3\" p3=\"5\" p4=\"11\" periodicity=\"2\" '\n",
      " 'phase=\"3.141592653589793\"/>\\n'\n",
      " '\\t\\t\\t\\t<Torsion k=\"15.167\" p1=\"2\" p2=\"0\" p3=\"1\" p4=\"3\" periodicity=\"2\" '\n",
      " 'phase=\"3.141592653589793\"/>\\n'\n",
      " '\\t\\t\\t\\t<Torsion k=\"15.167\" p1=\"2\" p2=\"0\" p3=\"1\" p4=\"7\" periodicity=\"2\" '\n",
      " 'phase=\"3.141592653589793\"/>\\n'\n",
      " '\\t\\t\\t\\t<Torsion k=\"15.167\" p1=\"2\" p2=\"4\" p3=\"5\" p4=\"3\" periodicity=\"2\" '\n",
      " 'phase=\"3.141592653589793\"/>\\n'\n",
      " '\\t\\t\\t\\t<Torsion k=\"15.167\" p1=\"2\" p2=\"4\" p3=\"5\" p4=\"11\" periodicity=\"2\" '\n",
      " 'phase=\"3.141592653589793\"/>\\n'\n",
      " '\\t\\t\\t\\t<Torsion k=\"15.167\" p1=\"3\" p2=\"1\" p3=\"0\" p4=\"6\" periodicity=\"2\" '\n",
      " 'phase=\"3.141592653589793\"/>\\n'\n",
      " '\\t\\t\\t\\t<Torsion k=\"15.167\" p1=\"3\" p2=\"5\" p3=\"4\" p4=\"10\" periodicity=\"2\" '\n",
      " 'phase=\"3.141592653589793\"/>\\n'\n",
      " '\\t\\t\\t\\t<Torsion k=\"15.167\" p1=\"4\" p2=\"2\" p3=\"0\" p4=\"6\" periodicity=\"2\" '\n",
      " 'phase=\"3.141592653589793\"/>\\n'\n",
      " '\\t\\t\\t\\t<Torsion k=\"15.167\" p1=\"4\" p2=\"5\" p3=\"3\" p4=\"9\" periodicity=\"2\" '\n",
      " 'phase=\"3.141592653589793\"/>\\n'\n",
      " '\\t\\t\\t\\t<Torsion k=\"15.167\" p1=\"5\" p2=\"3\" p3=\"1\" p4=\"7\" periodicity=\"2\" '\n",
      " 'phase=\"3.141592653589793\"/>\\n'\n",
      " '\\t\\t\\t\\t<Torsion k=\"15.167\" p1=\"5\" p2=\"4\" p3=\"2\" p4=\"8\" periodicity=\"2\" '\n",
      " 'phase=\"3.141592653589793\"/>\\n'\n",
      " '\\t\\t\\t\\t<Torsion k=\"15.167\" p1=\"6\" p2=\"0\" p3=\"1\" p4=\"7\" periodicity=\"2\" '\n",
      " 'phase=\"3.141592653589793\"/>\\n'\n",
      " '\\t\\t\\t\\t<Torsion k=\"15.167\" p1=\"6\" p2=\"0\" p3=\"2\" p4=\"8\" periodicity=\"2\" '\n",
      " 'phase=\"3.141592653589793\"/>\\n'\n",
      " '\\t\\t\\t\\t<Torsion k=\"15.167\" p1=\"7\" p2=\"1\" p3=\"3\" p4=\"9\" periodicity=\"2\" '\n",
      " 'phase=\"3.141592653589793\"/>\\n'\n",
      " '\\t\\t\\t\\t<Torsion k=\"15.167\" p1=\"8\" p2=\"2\" p3=\"4\" p4=\"10\" periodicity=\"2\" '\n",
      " 'phase=\"3.141592653589793\"/>\\n'\n",
      " '\\t\\t\\t\\t<Torsion k=\"15.167\" p1=\"9\" p2=\"3\" p3=\"5\" p4=\"11\" periodicity=\"2\" '\n",
      " 'phase=\"3.141592653589793\"/>\\n'\n",
      " '\\t\\t\\t\\t<Torsion k=\"15.167\" p1=\"10\" p2=\"4\" p3=\"5\" p4=\"11\" periodicity=\"2\" '\n",
      " 'phase=\"3.141592653589793\"/>\\n'\n",
      " '\\t\\t\\t</Torsions>\\n'\n",
      " '\\t\\t</Force>\\n'\n",
      " '\\t\\t<Force forceGroup=\"0\" type=\"HarmonicAngleForce\" usesPeriodic=\"0\" '\n",
      " 'version=\"2\">\\n'\n",
      " '\\t\\t\\t<Angles>\\n'\n",
      " '\\t\\t\\t\\t<Angle a=\"2.0943951023931953\" k=\"585.76\" p1=\"0\" p2=\"1\" p3=\"3\"/>\\n'\n",
      " '\\t\\t\\t\\t<Angle a=\"2.0943951023931953\" k=\"418.40000000000003\" p1=\"0\" p2=\"1\" '\n",
      " 'p3=\"7\"/>\\n'\n",
      " '\\t\\t\\t\\t<Angle a=\"2.0943951023931953\" k=\"585.76\" p1=\"0\" p2=\"2\" p3=\"4\"/>\\n'\n",
      " '\\t\\t\\t\\t<Angle a=\"2.0943951023931953\" k=\"418.40000000000003\" p1=\"0\" p2=\"2\" '\n",
      " 'p3=\"8\"/>\\n'\n",
      " '\\t\\t\\t\\t<Angle a=\"2.0943951023931953\" k=\"585.76\" p1=\"1\" p2=\"0\" p3=\"2\"/>\\n'\n",
      " '\\t\\t\\t\\t<Angle a=\"2.0943951023931953\" k=\"418.40000000000003\" p1=\"1\" p2=\"0\" '\n",
      " 'p3=\"6\"/>\\n'\n",
      " '\\t\\t\\t\\t<Angle a=\"2.0943951023931953\" k=\"585.76\" p1=\"1\" p2=\"3\" p3=\"5\"/>\\n'\n",
      " '\\t\\t\\t\\t<Angle a=\"2.0943951023931953\" k=\"418.40000000000003\" p1=\"1\" p2=\"3\" '\n",
      " 'p3=\"9\"/>\\n'\n",
      " '\\t\\t\\t\\t<Angle a=\"2.0943951023931953\" k=\"418.40000000000003\" p1=\"2\" p2=\"0\" '\n",
      " 'p3=\"6\"/>\\n'\n",
      " '\\t\\t\\t\\t<Angle a=\"2.0943951023931953\" k=\"585.76\" p1=\"2\" p2=\"4\" p3=\"5\"/>\\n'\n",
      " '\\t\\t\\t\\t<Angle a=\"2.0943951023931953\" k=\"418.40000000000003\" p1=\"2\" p2=\"4\" '\n",
      " 'p3=\"10\"/>\\n'\n",
      " '\\t\\t\\t\\t<Angle a=\"2.0943951023931953\" k=\"418.40000000000003\" p1=\"3\" p2=\"1\" '\n",
      " 'p3=\"7\"/>\\n'\n",
      " '\\t\\t\\t\\t<Angle a=\"2.0943951023931953\" k=\"585.76\" p1=\"3\" p2=\"5\" p3=\"4\"/>\\n'\n",
      " '\\t\\t\\t\\t<Angle a=\"2.0943951023931953\" k=\"418.40000000000003\" p1=\"3\" p2=\"5\" '\n",
      " 'p3=\"11\"/>\\n'\n",
      " '\\t\\t\\t\\t<Angle a=\"2.0943951023931953\" k=\"418.40000000000003\" p1=\"4\" p2=\"2\" '\n",
      " 'p3=\"8\"/>\\n'\n",
      " '\\t\\t\\t\\t<Angle a=\"2.0943951023931953\" k=\"418.40000000000003\" p1=\"4\" p2=\"5\" '\n",
      " 'p3=\"11\"/>\\n'\n",
      " '\\t\\t\\t\\t<Angle a=\"2.0943951023931953\" k=\"418.40000000000003\" p1=\"5\" p2=\"3\" '\n",
      " 'p3=\"9\"/>\\n'\n",
      " '\\t\\t\\t\\t<Angle a=\"2.0943951023931953\" k=\"418.40000000000003\" p1=\"5\" p2=\"4\" '\n",
      " 'p3=\"10\"/>\\n'\n",
      " '\\t\\t\\t</Angles>\\n'\n",
      " '\\t\\t</Force>\\n'\n",
      " '\\t\\t<Force forceGroup=\"0\" type=\"HarmonicBondForce\" usesPeriodic=\"0\" '\n",
      " 'version=\"2\">\\n'\n",
      " '\\t\\t\\t<Bonds>\\n'\n",
      " '\\t\\t\\t\\t<Bond d=\".13999999999999999\" k=\"392459.2\" p1=\"0\" p2=\"1\"/>\\n'\n",
      " '\\t\\t\\t\\t<Bond d=\".13999999999999999\" k=\"392459.2\" p1=\"0\" p2=\"2\"/>\\n'\n",
      " '\\t\\t\\t\\t<Bond d=\".10800000000000001\" k=\"307105.60000000003\" p1=\"0\" p2=\"6\"/>\\n'\n",
      " '\\t\\t\\t\\t<Bond d=\".13999999999999999\" k=\"392459.2\" p1=\"1\" p2=\"3\"/>\\n'\n",
      " '\\t\\t\\t\\t<Bond d=\".10800000000000001\" k=\"307105.60000000003\" p1=\"1\" p2=\"7\"/>\\n'\n",
      " '\\t\\t\\t\\t<Bond d=\".13999999999999999\" k=\"392459.2\" p1=\"2\" p2=\"4\"/>\\n'\n",
      " '\\t\\t\\t\\t<Bond d=\".10800000000000001\" k=\"307105.60000000003\" p1=\"2\" p2=\"8\"/>\\n'\n",
      " '\\t\\t\\t\\t<Bond d=\".13999999999999999\" k=\"392459.2\" p1=\"3\" p2=\"5\"/>\\n'\n",
      " '\\t\\t\\t\\t<Bond d=\".10800000000000001\" k=\"307105.60000000003\" p1=\"3\" p2=\"9\"/>\\n'\n",
      " '\\t\\t\\t\\t<Bond d=\".13999999999999999\" k=\"392459.2\" p1=\"4\" p2=\"5\"/>\\n'\n",
      " '\\t\\t\\t\\t<Bond d=\".10800000000000001\" k=\"307105.60000000003\" p1=\"4\" '\n",
      " 'p2=\"10\"/>\\n'\n",
      " '\\t\\t\\t\\t<Bond d=\".10800000000000001\" k=\"307105.60000000003\" p1=\"5\" '\n",
      " 'p2=\"11\"/>\\n'\n",
      " '\\t\\t\\t</Bonds>\\n'\n",
      " '\\t\\t</Force>\\n'\n",
      " '\\t</Forces>\\n'\n",
      " '</System>\\n')\n"
     ]
    }
   ],
   "source": [
    "pprint.pprint(XmlSerializer.serialize(system))"
   ]
  },
  {
   "cell_type": "code",
   "execution_count": null,
   "metadata": {},
   "outputs": [],
   "source": []
  },
  {
   "cell_type": "code",
   "execution_count": 36,
   "metadata": {},
   "outputs": [
    {
     "ename": "AttributeError",
     "evalue": "'Topology' object has no attribute 'chains'",
     "output_type": "error",
     "traceback": [
      "\u001b[0;31m---------------------------------------------------------------------------\u001b[0m",
      "\u001b[0;31mAttributeError\u001b[0m                            Traceback (most recent call last)",
      "\u001b[0;32m<ipython-input-36-2a7ce741f63f>\u001b[0m in \u001b[0;36m<module>\u001b[0;34m\u001b[0m\n\u001b[0;32m----> 1\u001b[0;31m \u001b[0mstructure\u001b[0m \u001b[0;34m=\u001b[0m \u001b[0mpmd\u001b[0m\u001b[0;34m.\u001b[0m\u001b[0mopenmm\u001b[0m\u001b[0;34m.\u001b[0m\u001b[0mload_topology\u001b[0m\u001b[0;34m(\u001b[0m\u001b[0mtopology\u001b[0m\u001b[0;34m,\u001b[0m \u001b[0msystem\u001b[0m\u001b[0;34m)\u001b[0m\u001b[0;34m\u001b[0m\u001b[0;34m\u001b[0m\u001b[0m\n\u001b[0m",
      "\u001b[0;32m~/data/anaconda3/envs/speakeasy/lib/python3.6/site-packages/parmed/utils/decorators.py\u001b[0m in \u001b[0;36mnew_fcn\u001b[0;34m(*args, **kwargs)\u001b[0m\n\u001b[1;32m     29\u001b[0m         \u001b[0;32mif\u001b[0m \u001b[0;32mnot\u001b[0m \u001b[0mSUPPORTED_VERSION\u001b[0m\u001b[0;34m:\u001b[0m\u001b[0;34m\u001b[0m\u001b[0;34m\u001b[0m\u001b[0m\n\u001b[1;32m     30\u001b[0m             \u001b[0;32mraise\u001b[0m \u001b[0mImportError\u001b[0m\u001b[0;34m(\u001b[0m\u001b[0;34m'You must have at least OpenMM 6.3 installed'\u001b[0m\u001b[0;34m)\u001b[0m\u001b[0;34m\u001b[0m\u001b[0;34m\u001b[0m\u001b[0m\n\u001b[0;32m---> 31\u001b[0;31m         \u001b[0;32mreturn\u001b[0m \u001b[0mfcn\u001b[0m\u001b[0;34m(\u001b[0m\u001b[0;34m*\u001b[0m\u001b[0margs\u001b[0m\u001b[0;34m,\u001b[0m \u001b[0;34m**\u001b[0m\u001b[0mkwargs\u001b[0m\u001b[0;34m)\u001b[0m\u001b[0;34m\u001b[0m\u001b[0;34m\u001b[0m\u001b[0m\n\u001b[0m\u001b[1;32m     32\u001b[0m \u001b[0;34m\u001b[0m\u001b[0m\n\u001b[1;32m     33\u001b[0m     \u001b[0;32mreturn\u001b[0m \u001b[0mnew_fcn\u001b[0m\u001b[0;34m\u001b[0m\u001b[0;34m\u001b[0m\u001b[0m\n",
      "\u001b[0;32m~/data/anaconda3/envs/speakeasy/lib/python3.6/site-packages/parmed/openmm/topsystem.py\u001b[0m in \u001b[0;36mload_topology\u001b[0;34m(topology, system, xyz, box)\u001b[0m\n\u001b[1;32m     82\u001b[0m     \u001b[0mstruct\u001b[0m \u001b[0;34m=\u001b[0m \u001b[0mStructure\u001b[0m\u001b[0;34m(\u001b[0m\u001b[0;34m)\u001b[0m\u001b[0;34m\u001b[0m\u001b[0;34m\u001b[0m\u001b[0m\n\u001b[1;32m     83\u001b[0m     \u001b[0matommap\u001b[0m \u001b[0;34m=\u001b[0m \u001b[0mdict\u001b[0m\u001b[0;34m(\u001b[0m\u001b[0;34m)\u001b[0m\u001b[0;34m\u001b[0m\u001b[0;34m\u001b[0m\u001b[0m\n\u001b[0;32m---> 84\u001b[0;31m     \u001b[0;32mfor\u001b[0m \u001b[0mc\u001b[0m \u001b[0;32min\u001b[0m \u001b[0mtopology\u001b[0m\u001b[0;34m.\u001b[0m\u001b[0mchains\u001b[0m\u001b[0;34m(\u001b[0m\u001b[0;34m)\u001b[0m\u001b[0;34m:\u001b[0m\u001b[0;34m\u001b[0m\u001b[0;34m\u001b[0m\u001b[0m\n\u001b[0m\u001b[1;32m     85\u001b[0m         \u001b[0mchain\u001b[0m \u001b[0;34m=\u001b[0m \u001b[0mc\u001b[0m\u001b[0;34m.\u001b[0m\u001b[0mid\u001b[0m\u001b[0;34m\u001b[0m\u001b[0;34m\u001b[0m\u001b[0m\n\u001b[1;32m     86\u001b[0m         \u001b[0;32mfor\u001b[0m \u001b[0mr\u001b[0m \u001b[0;32min\u001b[0m \u001b[0mc\u001b[0m\u001b[0;34m.\u001b[0m\u001b[0mresidues\u001b[0m\u001b[0;34m(\u001b[0m\u001b[0;34m)\u001b[0m\u001b[0;34m:\u001b[0m\u001b[0;34m\u001b[0m\u001b[0;34m\u001b[0m\u001b[0m\n",
      "\u001b[0;31mAttributeError\u001b[0m: 'Topology' object has no attribute 'chains'"
     ]
    }
   ],
   "source": [
    "structure = pmd.openmm.load_topology(topology, system)"
   ]
  },
  {
   "cell_type": "code",
   "execution_count": 29,
   "metadata": {},
   "outputs": [
    {
     "ename": "NameError",
     "evalue": "name 'structure' is not defined",
     "output_type": "error",
     "traceback": [
      "\u001b[0;31m---------------------------------------------------------------------------\u001b[0m",
      "\u001b[0;31mNameError\u001b[0m                                 Traceback (most recent call last)",
      "\u001b[0;32m<ipython-input-29-1bfd03fd88a6>\u001b[0m in \u001b[0;36m<module>\u001b[0;34m\u001b[0m\n\u001b[0;32m----> 1\u001b[0;31m \u001b[0mstructure\u001b[0m\u001b[0;34m.\u001b[0m\u001b[0msave\u001b[0m\u001b[0;34m(\u001b[0m\u001b[0;34m\"benzene.smirnoff.prmtop\"\u001b[0m\u001b[0;34m)\u001b[0m\u001b[0;34m\u001b[0m\u001b[0;34m\u001b[0m\u001b[0m\n\u001b[0m",
      "\u001b[0;31mNameError\u001b[0m: name 'structure' is not defined"
     ]
    }
   ],
   "source": [
    "structure.save(\"benzene.smirnoff.prmtop\")"
   ]
  },
  {
   "cell_type": "code",
   "execution_count": 78,
   "metadata": {},
   "outputs": [],
   "source": [
    "pmd.tools.writeFrcmod(pmd.load_file(\"phenol.prmtop\"), \"phenol.frcmod\").execute()"
   ]
  },
  {
   "cell_type": "code",
   "execution_count": 39,
   "metadata": {},
   "outputs": [
    {
     "ename": "NotImplementedError",
     "evalue": "",
     "output_type": "error",
     "traceback": [
      "\u001b[0;31m---------------------------------------------------------------------------\u001b[0m",
      "\u001b[0;31mNotImplementedError\u001b[0m                       Traceback (most recent call last)",
      "\u001b[0;32m<ipython-input-39-ca5bc575a029>\u001b[0m in \u001b[0;36m<module>\u001b[0;34m\u001b[0m\n\u001b[0;32m----> 1\u001b[0;31m \u001b[0mtopology\u001b[0m\u001b[0;34m.\u001b[0m\u001b[0mto_parmed\u001b[0m\u001b[0;34m(\u001b[0m\u001b[0;34m)\u001b[0m\u001b[0;34m\u001b[0m\u001b[0;34m\u001b[0m\u001b[0m\n\u001b[0m",
      "\u001b[0;32m~/data/anaconda3/envs/speakeasy/lib/python3.6/site-packages/openforcefield/topology/topology.py\u001b[0m in \u001b[0;36mto_parmed\u001b[0;34m(self)\u001b[0m\n\u001b[1;32m   1649\u001b[0m         \u001b[0;32mimport\u001b[0m \u001b[0mparmed\u001b[0m\u001b[0;34m\u001b[0m\u001b[0;34m\u001b[0m\u001b[0m\n\u001b[1;32m   1650\u001b[0m         \u001b[0;31m# TODO: Implement functionality\u001b[0m\u001b[0;34m\u001b[0m\u001b[0;34m\u001b[0m\u001b[0;34m\u001b[0m\u001b[0m\n\u001b[0;32m-> 1651\u001b[0;31m         \u001b[0;32mraise\u001b[0m \u001b[0mNotImplementedError\u001b[0m\u001b[0;34m\u001b[0m\u001b[0;34m\u001b[0m\u001b[0m\n\u001b[0m\u001b[1;32m   1652\u001b[0m \u001b[0;34m\u001b[0m\u001b[0m\n\u001b[1;32m   1653\u001b[0m     \u001b[0;31m# TODO: Jeff prepended an underscore on this before 0.2.0 release to remove it from the API.\u001b[0m\u001b[0;34m\u001b[0m\u001b[0;34m\u001b[0m\u001b[0;34m\u001b[0m\u001b[0m\n",
      "\u001b[0;31mNotImplementedError\u001b[0m: "
     ]
    }
   ],
   "source": [
    "topology.to_parmed()"
   ]
  },
  {
   "cell_type": "code",
   "execution_count": null,
   "metadata": {},
   "outputs": [],
   "source": []
  },
  {
   "cell_type": "code",
   "execution_count": null,
   "metadata": {},
   "outputs": [],
   "source": []
  },
  {
   "cell_type": "code",
   "execution_count": null,
   "metadata": {},
   "outputs": [],
   "source": []
  },
  {
   "cell_type": "code",
   "execution_count": 1,
   "metadata": {},
   "outputs": [],
   "source": [
    "dictionary = {'1': 'ca', '2': 'ca', '3': 'ca', '4': 'ca', '5': 'ca', '6': 'ca', '7': 'ha', '8': 'ha', '9': 'ha', '10': 'ha', '11': 'ha', '12': 'ha'}"
   ]
  },
  {
   "cell_type": "code",
   "execution_count": 25,
   "metadata": {},
   "outputs": [],
   "source": [
    "with open(\"../benzene.gaff-smirnoff.frcmod\", \"r\") as file:\n",
    "    smirnoff_frcmod = file.read()"
   ]
  },
  {
   "cell_type": "code",
   "execution_count": 26,
   "metadata": {},
   "outputs": [
    {
     "data": {
      "text/plain": [
       "'Force field parameters from benzene.gaff-smirnoff.prmtop\\nMASS\\n1     12.011\\n2     12.011\\n3     12.011\\n4     12.011\\n5     12.011\\n6     12.011\\n7      1.008\\n8      1.008\\n9      1.008\\n10     1.008\\n11     1.008\\n12     1.008\\n\\nBOND\\n1 -2     469.000   1.400\\n1 -3     469.000   1.400\\n2 -4     469.000   1.400\\n3 -5     469.000   1.400\\n4 -6     469.000   1.400\\n5 -6     469.000   1.400\\n1 -7     367.000   1.080\\n2 -8     367.000   1.080\\n3 -9     367.000   1.080\\n4 -10    367.000   1.080\\n5 -11    367.000   1.080\\n6 -12    367.000   1.080\\n\\nANGLE\\n2 -1 -3      70.000  120.000\\n1 -2 -4      70.000  120.000\\n1 -3 -5      70.000  120.000\\n2 -4 -6      70.000  120.000\\n3 -5 -6      70.000  120.000\\n4 -6 -5      70.000  120.000\\n2 -1 -7      50.000  120.000\\n3 -1 -7      50.000  120.000\\n1 -2 -8      50.000  120.000\\n4 -2 -8      50.000  120.000\\n1 -3 -9      50.000  120.000\\n5 -3 -9      50.000  120.000\\n2 -4 -10     50.000  120.000\\n6 -4 -10     50.000  120.000\\n3 -5 -11     50.000  120.000\\n6 -5 -11     50.000  120.000\\n4 -6 -12     50.000  120.000\\n5 -6 -12     50.000  120.000\\n\\nDIHE\\n3 -1 -2 -4     1     3.62500000  180.000   2.0    SCEE=1.20000048 SCNB=2.0\\n2 -1 -3 -5     1     3.62500000  180.000   2.0    SCEE=1.20000048 SCNB=2.0\\n1 -2 -4 -6     1     3.62500000  180.000   2.0    SCEE=1.20000048 SCNB=2.0\\n1 -3 -5 -6     1     3.62500000  180.000   2.0    SCEE=1.0 SCNB=1.0\\n2 -4 -6 -5     1     3.62500000  180.000   2.0    SCEE=1.0 SCNB=1.0\\n3 -5 -6 -4     1     3.62500000  180.000   2.0    SCEE=1.0 SCNB=1.0\\n3 -1 -2 -8     1     3.62500000  180.000   2.0    SCEE=1.20000048 SCNB=2.0\\n7 -1 -2 -4     1     3.62500000  180.000   2.0    SCEE=1.20000048 SCNB=2.0\\n7 -1 -2 -8     1     3.62500000  180.000   2.0    SCEE=1.20000048 SCNB=2.0\\n2 -1 -3 -9     1     3.62500000  180.000   2.0    SCEE=1.20000048 SCNB=2.0\\n7 -1 -3 -5     1     3.62500000  180.000   2.0    SCEE=1.20000048 SCNB=2.0\\n7 -1 -3 -9     1     3.62500000  180.000   2.0    SCEE=1.20000048 SCNB=2.0\\n1 -2 -4 -10    1     3.62500000  180.000   2.0    SCEE=1.20000048 SCNB=2.0\\n6 -4 -2 -8     1     3.62500000  180.000   2.0    SCEE=1.20000048 SCNB=2.0\\n8 -2 -4 -10    1     3.62500000  180.000   2.0    SCEE=1.20000048 SCNB=2.0\\n1 -3 -5 -11    1     3.62500000  180.000   2.0    SCEE=1.20000048 SCNB=2.0\\n6 -5 -3 -9     1     3.62500000  180.000   2.0    SCEE=1.20000048 SCNB=2.0\\n9 -3 -5 -11    1     3.62500000  180.000   2.0    SCEE=1.20000048 SCNB=2.0\\n2 -4 -6 -12    1     3.62500000  180.000   2.0    SCEE=1.20000048 SCNB=2.0\\n5 -6 -4 -10    1     3.62500000  180.000   2.0    SCEE=1.20000048 SCNB=2.0\\n10-4 -6 -12    1     3.62500000  180.000   2.0    SCEE=1.20000048 SCNB=2.0\\n3 -5 -6 -12    1     3.62500000  180.000   2.0    SCEE=1.20000048 SCNB=2.0\\n4 -6 -5 -11    1     3.62500000  180.000   2.0    SCEE=1.20000048 SCNB=2.0\\n11-5 -6 -12    1     3.62500000  180.000   2.0    SCEE=1.20000048 SCNB=2.0\\n2 -1 -3 -7     1     0.18333333  180.000   2.0    SCEE=1.0 SCNB=1.0\\n2 -1 -7 -3     1     0.18333333  180.000   2.0    SCEE=1.0 SCNB=1.0\\n3 -1 -2 -7     1     0.18333333  180.000   2.0    SCEE=1.0 SCNB=1.0\\n3 -1 -7 -2     1     0.18333333  180.000   2.0    SCEE=1.0 SCNB=1.0\\n7 -1 -2 -3     1     0.18333333  180.000   2.0    SCEE=1.0 SCNB=1.0\\n7 -1 -3 -2     1     0.18333333  180.000   2.0    SCEE=1.0 SCNB=1.0\\n1 -2 -4 -8     1     0.18333333  180.000   2.0    SCEE=1.0 SCNB=1.0\\n1 -2 -8 -4     1     0.18333333  180.000   2.0    SCEE=1.0 SCNB=1.0\\n8 -1 -2 -4     1     0.18333333  180.000   2.0    SCEE=1.0 SCNB=1.0\\n1 -8 -2 -4     1     0.18333333  180.000   2.0    SCEE=1.0 SCNB=1.0\\n4 -1 -2 -8     1     0.18333333  180.000   2.0    SCEE=1.0 SCNB=1.0\\n1 -4 -2 -8     1     0.18333333  180.000   2.0    SCEE=1.0 SCNB=1.0\\n1 -3 -5 -9     1     0.18333333  180.000   2.0    SCEE=1.0 SCNB=1.0\\n1 -3 -9 -5     1     0.18333333  180.000   2.0    SCEE=1.0 SCNB=1.0\\n9 -1 -3 -5     1     0.18333333  180.000   2.0    SCEE=1.0 SCNB=1.0\\n1 -9 -3 -5     1     0.18333333  180.000   2.0    SCEE=1.0 SCNB=1.0\\n5 -1 -3 -9     1     0.18333333  180.000   2.0    SCEE=1.0 SCNB=1.0\\n1 -5 -3 -9     1     0.18333333  180.000   2.0    SCEE=1.0 SCNB=1.0\\n2 -4 -6 -10    1     0.18333333  180.000   2.0    SCEE=1.0 SCNB=1.0\\n2 -4 -10-6     1     0.18333333  180.000   2.0    SCEE=1.0 SCNB=1.0\\n6 -4 -2 -10    1     0.18333333  180.000   2.0    SCEE=1.0 SCNB=1.0\\n6 -4 -10-2     1     0.18333333  180.000   2.0    SCEE=1.0 SCNB=1.0\\n10-4 -2 -6     1     0.18333333  180.000   2.0    SCEE=1.0 SCNB=1.0\\n10-4 -6 -2     1     0.18333333  180.000   2.0    SCEE=1.0 SCNB=1.0\\n3 -5 -6 -11    1     0.18333333  180.000   2.0    SCEE=1.0 SCNB=1.0\\n3 -5 -11-6     1     0.18333333  180.000   2.0    SCEE=1.0 SCNB=1.0\\n6 -5 -3 -11    1     0.18333333  180.000   2.0    SCEE=1.0 SCNB=1.0\\n6 -5 -11-3     1     0.18333333  180.000   2.0    SCEE=1.0 SCNB=1.0\\n11-5 -3 -6     1     0.18333333  180.000   2.0    SCEE=1.0 SCNB=1.0\\n11-5 -6 -3     1     0.18333333  180.000   2.0    SCEE=1.0 SCNB=1.0\\n4 -6 -5 -12    1     0.18333333  180.000   2.0    SCEE=1.0 SCNB=1.0\\n4 -6 -12-5     1     0.18333333  180.000   2.0    SCEE=1.0 SCNB=1.0\\n5 -6 -4 -12    1     0.18333333  180.000   2.0    SCEE=1.0 SCNB=1.0\\n5 -6 -12-4     1     0.18333333  180.000   2.0    SCEE=1.0 SCNB=1.0\\n12-6 -4 -5     1     0.18333333  180.000   2.0    SCEE=1.0 SCNB=1.0\\n12-6 -5 -4     1     0.18333333  180.000   2.0    SCEE=1.0 SCNB=1.0\\n\\nIMPROPER\\n\\nNONB\\n1     1.90800000   0.08600000\\n2     1.90800000   0.08600000\\n3     1.90800000   0.08600000\\n4     1.90800000   0.08600000\\n5     1.90800000   0.08600000\\n6     1.90800000   0.08600000\\n7     1.45900000   0.01500000\\n8     1.45900000   0.01500000\\n9     1.45900000   0.01500000\\n10    1.45900000   0.01500000\\n11    1.45900000   0.01500000\\n12    1.45900000   0.01500000\\n\\n'"
      ]
     },
     "execution_count": 26,
     "metadata": {},
     "output_type": "execute_result"
    }
   ],
   "source": [
    "smirnoff_frcmod"
   ]
  },
  {
   "cell_type": "code",
   "execution_count": 40,
   "metadata": {
    "scrolled": true
   },
   "outputs": [],
   "source": [
    "import re\n",
    "opening = \"MASS\"\n",
    "between = \"(.*?)\"\n",
    "closing = \"BOND\"\n",
    "pattern = opening + between + closing\n",
    "atoms = re.findall(pattern, smirnoff_frcmod, re.DOTALL)"
   ]
  },
  {
   "cell_type": "code",
   "execution_count": 60,
   "metadata": {},
   "outputs": [],
   "source": [
    "atom_list = atoms[0].split(\"\\n\")"
   ]
  },
  {
   "cell_type": "code",
   "execution_count": 85,
   "metadata": {},
   "outputs": [
    {
     "name": "stdout",
     "output_type": "stream",
     "text": [
      "1\n",
      "2\n",
      "3\n",
      "4\n",
      "5\n",
      "6\n",
      "7\n",
      "8\n",
      "9\n",
      "10\n",
      "11\n",
      "12\n"
     ]
    }
   ],
   "source": [
    "new_atoms = []\n",
    "for atom in atom_list[1:-2]:\n",
    "    atom_type, mass = atom.split()\n",
    "    new_atoms.append(f\"{dictionary[atom_type]}{mass:>10}\")"
   ]
  },
  {
   "cell_type": "code",
   "execution_count": 87,
   "metadata": {},
   "outputs": [],
   "source": [
    "opening = \"BOND\"\n",
    "between = \"(.*?)\"\n",
    "closing = \"ANGLE\"\n",
    "pattern = opening + between + closing\n",
    "bonds = re.findall(pattern, smirnoff_frcmod, re.DOTALL)"
   ]
  },
  {
   "cell_type": "code",
   "execution_count": 88,
   "metadata": {},
   "outputs": [],
   "source": [
    "bond_list = bonds[0].split(\"\\n\")"
   ]
  },
  {
   "cell_type": "code",
   "execution_count": 132,
   "metadata": {},
   "outputs": [],
   "source": [
    "new_bonds = []\n",
    "for bond in bond_list[1:-2]:\n",
    "    atom_one, atom_two, k, r = bond.split()\n",
    "    atom_two = atom_two.replace(\"-\", \"\")\n",
    "    new_atom_one = dictionary[atom_one]\n",
    "    new_atom_two = dictionary[atom_two]\n",
    "    new_bonds.append(f\"{new_atom_one:<2}-{new_atom_two:<2}{k:>12}{r:>7}\")"
   ]
  },
  {
   "cell_type": "code",
   "execution_count": 133,
   "metadata": {},
   "outputs": [
    {
     "data": {
      "text/plain": [
       "['',\n",
       " '1 -2     469.000   1.400',\n",
       " '1 -3     469.000   1.400',\n",
       " '2 -4     469.000   1.400',\n",
       " '3 -5     469.000   1.400',\n",
       " '4 -6     469.000   1.400',\n",
       " '5 -6     469.000   1.400',\n",
       " '1 -7     367.000   1.080',\n",
       " '2 -8     367.000   1.080',\n",
       " '3 -9     367.000   1.080',\n",
       " '4 -10    367.000   1.080',\n",
       " '5 -11    367.000   1.080',\n",
       " '6 -12    367.000   1.080',\n",
       " '',\n",
       " '']"
      ]
     },
     "execution_count": 133,
     "metadata": {},
     "output_type": "execute_result"
    }
   ],
   "source": [
    "bond_list"
   ]
  },
  {
   "cell_type": "code",
   "execution_count": 134,
   "metadata": {},
   "outputs": [
    {
     "data": {
      "text/plain": [
       "['ca-ca     469.000  1.400',\n",
       " 'ca-ca     469.000  1.400',\n",
       " 'ca-ca     469.000  1.400',\n",
       " 'ca-ca     469.000  1.400',\n",
       " 'ca-ca     469.000  1.400',\n",
       " 'ca-ca     469.000  1.400',\n",
       " 'ca-ha     367.000  1.080',\n",
       " 'ca-ha     367.000  1.080',\n",
       " 'ca-ha     367.000  1.080',\n",
       " 'ca-ha     367.000  1.080',\n",
       " 'ca-ha     367.000  1.080',\n",
       " 'ca-ha     367.000  1.080']"
      ]
     },
     "execution_count": 134,
     "metadata": {},
     "output_type": "execute_result"
    }
   ],
   "source": [
    "new_bonds"
   ]
  },
  {
   "cell_type": "code",
   "execution_count": 147,
   "metadata": {},
   "outputs": [],
   "source": [
    "opening = \"ANGLE\"\n",
    "between = \"(.*?)\"\n",
    "closing = \"DIHE\"\n",
    "pattern = opening + between + closing\n",
    "angles = re.findall(pattern, smirnoff_frcmod, re.DOTALL)\n",
    "\n",
    "angles_list = angles[0].split(\"\\n\")\n",
    "\n",
    "new_angles = []\n",
    "for angle in angles_list[1:-2]:\n",
    "    atom_one, atom_two, atom_three, k, theta = angle.split()\n",
    "    atom_two = atom_two.replace(\"-\", \"\")\n",
    "    atom_three = atom_three.replace(\"-\", \"\")\n",
    "    new_atom_one = dictionary[atom_one]\n",
    "    new_atom_two = dictionary[atom_two]\n",
    "    new_atom_three = dictionary[atom_three]\n",
    "    new_angles.append(f\"{new_atom_one:<2}-{new_atom_two:<2}-{new_atom_three:<2}{k:>11}{theta:>9}\")"
   ]
  },
  {
   "cell_type": "code",
   "execution_count": 148,
   "metadata": {},
   "outputs": [
    {
     "data": {
      "text/plain": [
       "['',\n",
       " '2 -1 -3      70.000  120.000',\n",
       " '1 -2 -4      70.000  120.000',\n",
       " '1 -3 -5      70.000  120.000',\n",
       " '2 -4 -6      70.000  120.000',\n",
       " '3 -5 -6      70.000  120.000',\n",
       " '4 -6 -5      70.000  120.000',\n",
       " '2 -1 -7      50.000  120.000',\n",
       " '3 -1 -7      50.000  120.000',\n",
       " '1 -2 -8      50.000  120.000',\n",
       " '4 -2 -8      50.000  120.000',\n",
       " '1 -3 -9      50.000  120.000',\n",
       " '5 -3 -9      50.000  120.000',\n",
       " '2 -4 -10     50.000  120.000',\n",
       " '6 -4 -10     50.000  120.000',\n",
       " '3 -5 -11     50.000  120.000',\n",
       " '6 -5 -11     50.000  120.000',\n",
       " '4 -6 -12     50.000  120.000',\n",
       " '5 -6 -12     50.000  120.000',\n",
       " '',\n",
       " '']"
      ]
     },
     "execution_count": 148,
     "metadata": {},
     "output_type": "execute_result"
    }
   ],
   "source": [
    "angles_list"
   ]
  },
  {
   "cell_type": "code",
   "execution_count": 149,
   "metadata": {},
   "outputs": [
    {
     "data": {
      "text/plain": [
       "['ca-ca-ca     70.000  120.000',\n",
       " 'ca-ca-ca     70.000  120.000',\n",
       " 'ca-ca-ca     70.000  120.000',\n",
       " 'ca-ca-ca     70.000  120.000',\n",
       " 'ca-ca-ca     70.000  120.000',\n",
       " 'ca-ca-ca     70.000  120.000',\n",
       " 'ca-ca-ha     50.000  120.000',\n",
       " 'ca-ca-ha     50.000  120.000',\n",
       " 'ca-ca-ha     50.000  120.000',\n",
       " 'ca-ca-ha     50.000  120.000',\n",
       " 'ca-ca-ha     50.000  120.000',\n",
       " 'ca-ca-ha     50.000  120.000',\n",
       " 'ca-ca-ha     50.000  120.000',\n",
       " 'ca-ca-ha     50.000  120.000',\n",
       " 'ca-ca-ha     50.000  120.000',\n",
       " 'ca-ca-ha     50.000  120.000',\n",
       " 'ca-ca-ha     50.000  120.000',\n",
       " 'ca-ca-ha     50.000  120.000']"
      ]
     },
     "execution_count": 149,
     "metadata": {},
     "output_type": "execute_result"
    }
   ],
   "source": [
    "new_angles"
   ]
  },
  {
   "cell_type": "code",
   "execution_count": 255,
   "metadata": {},
   "outputs": [],
   "source": [
    "opening = \"DIHE\"\n",
    "between = \"(.*?)\"\n",
    "closing = \"IMPROPER\"\n",
    "pattern = opening + between + closing\n",
    "dihedrals = re.findall(pattern, smirnoff_frcmod, re.DOTALL)\n",
    "\n",
    "dihedrals_list = dihedrals[0].split(\"\\n\")\n",
    "\n",
    "new_dihedrals = []\n",
    "for dihedral in dihedrals_list[1:-2]:\n",
    "    try:\n",
    "        atom_one, atom_two, atom_three, atom_four, idiv, k, theta, per, scee, scnb = dihedral.split()\n",
    "    except ValueError as e:\n",
    "        if str(e) == \"not enough values to unpack (expected 10, got 9)\":\n",
    "            atom_one, atom_two, atom_three, stuff = dihedral.split(\"-\")\n",
    "            atom_four, idiv, k, theta, per, scee, scnb = stuff.split()\n",
    "                    \n",
    "    atom_two = atom_two.replace(\"-\", \"\")\n",
    "    atom_three = atom_three.replace(\"-\", \"\")\n",
    "    atom_four = atom_four.replace(\"-\", \"\")\n",
    "    new_atom_one = dictionary[atom_one.strip()]\n",
    "    new_atom_two = dictionary[atom_two.strip()]\n",
    "    new_atom_three = dictionary[atom_three.strip()]\n",
    "    new_atom_four = dictionary[atom_four.strip()]\n",
    "    new_dihedrals.append(f\"{new_atom_one:<2}-{new_atom_two:<2}-{new_atom_three:<2}-{new_atom_four:<2}{idiv:>5}{k:>15}{theta:>9}{per:>6}    {scee:<6} {scnb}\")"
   ]
  },
  {
   "cell_type": "markdown",
   "metadata": {},
   "source": [
    "Haven't done with impropers yet..."
   ]
  },
  {
   "cell_type": "code",
   "execution_count": 276,
   "metadata": {},
   "outputs": [],
   "source": [
    "opening = \"NONB\"\n",
    "forwards = \".*$\"\n",
    "pattern = opening + forwards\n",
    "nonb = re.findall(pattern, smirnoff_frcmod, re.DOTALL)\n",
    "\n",
    "nonb_list = nonb[0].split(\"\\n\")\n",
    "\n",
    "new_nonb = []\n",
    "for nonb in nonb_list[1:-2]:\n",
    "    atom_type, sigma, epsilon = nonb.split()\n",
    "    new_nonb.append(f\"{dictionary[atom_type]}{sigma:>14}{epsilon:>14}\")"
   ]
  },
  {
   "cell_type": "code",
   "execution_count": 277,
   "metadata": {},
   "outputs": [
    {
     "data": {
      "text/plain": [
       "['NONB',\n",
       " '1     1.90800000   0.08600000',\n",
       " '2     1.90800000   0.08600000',\n",
       " '3     1.90800000   0.08600000',\n",
       " '4     1.90800000   0.08600000',\n",
       " '5     1.90800000   0.08600000',\n",
       " '6     1.90800000   0.08600000',\n",
       " '7     1.45900000   0.01500000',\n",
       " '8     1.45900000   0.01500000',\n",
       " '9     1.45900000   0.01500000',\n",
       " '10    1.45900000   0.01500000',\n",
       " '11    1.45900000   0.01500000',\n",
       " '12    1.45900000   0.01500000',\n",
       " '',\n",
       " '']"
      ]
     },
     "execution_count": 277,
     "metadata": {},
     "output_type": "execute_result"
    }
   ],
   "source": [
    "nonb_list"
   ]
  },
  {
   "cell_type": "code",
   "execution_count": 278,
   "metadata": {},
   "outputs": [
    {
     "data": {
      "text/plain": [
       "['ca    1.90800000    0.08600000',\n",
       " 'ca    1.90800000    0.08600000',\n",
       " 'ca    1.90800000    0.08600000',\n",
       " 'ca    1.90800000    0.08600000',\n",
       " 'ca    1.90800000    0.08600000',\n",
       " 'ca    1.90800000    0.08600000',\n",
       " 'ha    1.45900000    0.01500000',\n",
       " 'ha    1.45900000    0.01500000',\n",
       " 'ha    1.45900000    0.01500000',\n",
       " 'ha    1.45900000    0.01500000',\n",
       " 'ha    1.45900000    0.01500000',\n",
       " 'ha    1.45900000    0.01500000']"
      ]
     },
     "execution_count": 278,
     "metadata": {},
     "output_type": "execute_result"
    }
   ],
   "source": [
    "new_nonb"
   ]
  },
  {
   "cell_type": "code",
   "execution_count": 280,
   "metadata": {},
   "outputs": [
    {
     "data": {
      "text/plain": [
       "'Force field parameters from benzene.gaff-smirnoff.prmtop'"
      ]
     },
     "execution_count": 280,
     "metadata": {},
     "output_type": "execute_result"
    }
   ],
   "source": [
    "smirnoff_frcmod.split(\"\\n\")[0]"
   ]
  },
  {
   "cell_type": "code",
   "execution_count": null,
   "metadata": {},
   "outputs": [],
   "source": []
  }
 ],
 "metadata": {
  "kernelspec": {
   "display_name": "Python 3",
   "language": "python",
   "name": "python3"
  },
  "language_info": {
   "codemirror_mode": {
    "name": "ipython",
    "version": 3
   },
   "file_extension": ".py",
   "mimetype": "text/x-python",
   "name": "python",
   "nbconvert_exporter": "python",
   "pygments_lexer": "ipython3",
   "version": "3.6.7"
  }
 },
 "nbformat": 4,
 "nbformat_minor": 2
}
