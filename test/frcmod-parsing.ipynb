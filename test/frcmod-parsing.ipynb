{
 "cells": [
  {
   "cell_type": "markdown",
   "metadata": {},
   "source": [
    "# Notes on `.frcmod` parsing"
   ]
  },
  {
   "cell_type": "code",
   "execution_count": 1,
   "metadata": {},
   "outputs": [],
   "source": [
    "dictionary = {'1': 'ca', '2': 'ca', '3': 'ca', '4': 'ca', '5': 'ca', '6': 'ca', '7': 'ha', '8': 'ha', '9': 'ha', '10': 'ha', '11': 'ha', '12': 'ha'}"
   ]
  },
  {
   "cell_type": "code",
   "execution_count": 25,
   "metadata": {},
   "outputs": [],
   "source": [
    "with open(\"../benzene.gaff-smirnoff.frcmod\", \"r\") as file:\n",
    "    smirnoff_frcmod = file.read()"
   ]
  },
  {
   "cell_type": "code",
   "execution_count": 26,
   "metadata": {},
   "outputs": [
    {
     "data": {
      "text/plain": [
       "'Force field parameters from benzene.gaff-smirnoff.prmtop\\nMASS\\n1     12.011\\n2     12.011\\n3     12.011\\n4     12.011\\n5     12.011\\n6     12.011\\n7      1.008\\n8      1.008\\n9      1.008\\n10     1.008\\n11     1.008\\n12     1.008\\n\\nBOND\\n1 -2     469.000   1.400\\n1 -3     469.000   1.400\\n2 -4     469.000   1.400\\n3 -5     469.000   1.400\\n4 -6     469.000   1.400\\n5 -6     469.000   1.400\\n1 -7     367.000   1.080\\n2 -8     367.000   1.080\\n3 -9     367.000   1.080\\n4 -10    367.000   1.080\\n5 -11    367.000   1.080\\n6 -12    367.000   1.080\\n\\nANGLE\\n2 -1 -3      70.000  120.000\\n1 -2 -4      70.000  120.000\\n1 -3 -5      70.000  120.000\\n2 -4 -6      70.000  120.000\\n3 -5 -6      70.000  120.000\\n4 -6 -5      70.000  120.000\\n2 -1 -7      50.000  120.000\\n3 -1 -7      50.000  120.000\\n1 -2 -8      50.000  120.000\\n4 -2 -8      50.000  120.000\\n1 -3 -9      50.000  120.000\\n5 -3 -9      50.000  120.000\\n2 -4 -10     50.000  120.000\\n6 -4 -10     50.000  120.000\\n3 -5 -11     50.000  120.000\\n6 -5 -11     50.000  120.000\\n4 -6 -12     50.000  120.000\\n5 -6 -12     50.000  120.000\\n\\nDIHE\\n3 -1 -2 -4     1     3.62500000  180.000   2.0    SCEE=1.20000048 SCNB=2.0\\n2 -1 -3 -5     1     3.62500000  180.000   2.0    SCEE=1.20000048 SCNB=2.0\\n1 -2 -4 -6     1     3.62500000  180.000   2.0    SCEE=1.20000048 SCNB=2.0\\n1 -3 -5 -6     1     3.62500000  180.000   2.0    SCEE=1.0 SCNB=1.0\\n2 -4 -6 -5     1     3.62500000  180.000   2.0    SCEE=1.0 SCNB=1.0\\n3 -5 -6 -4     1     3.62500000  180.000   2.0    SCEE=1.0 SCNB=1.0\\n3 -1 -2 -8     1     3.62500000  180.000   2.0    SCEE=1.20000048 SCNB=2.0\\n7 -1 -2 -4     1     3.62500000  180.000   2.0    SCEE=1.20000048 SCNB=2.0\\n7 -1 -2 -8     1     3.62500000  180.000   2.0    SCEE=1.20000048 SCNB=2.0\\n2 -1 -3 -9     1     3.62500000  180.000   2.0    SCEE=1.20000048 SCNB=2.0\\n7 -1 -3 -5     1     3.62500000  180.000   2.0    SCEE=1.20000048 SCNB=2.0\\n7 -1 -3 -9     1     3.62500000  180.000   2.0    SCEE=1.20000048 SCNB=2.0\\n1 -2 -4 -10    1     3.62500000  180.000   2.0    SCEE=1.20000048 SCNB=2.0\\n6 -4 -2 -8     1     3.62500000  180.000   2.0    SCEE=1.20000048 SCNB=2.0\\n8 -2 -4 -10    1     3.62500000  180.000   2.0    SCEE=1.20000048 SCNB=2.0\\n1 -3 -5 -11    1     3.62500000  180.000   2.0    SCEE=1.20000048 SCNB=2.0\\n6 -5 -3 -9     1     3.62500000  180.000   2.0    SCEE=1.20000048 SCNB=2.0\\n9 -3 -5 -11    1     3.62500000  180.000   2.0    SCEE=1.20000048 SCNB=2.0\\n2 -4 -6 -12    1     3.62500000  180.000   2.0    SCEE=1.20000048 SCNB=2.0\\n5 -6 -4 -10    1     3.62500000  180.000   2.0    SCEE=1.20000048 SCNB=2.0\\n10-4 -6 -12    1     3.62500000  180.000   2.0    SCEE=1.20000048 SCNB=2.0\\n3 -5 -6 -12    1     3.62500000  180.000   2.0    SCEE=1.20000048 SCNB=2.0\\n4 -6 -5 -11    1     3.62500000  180.000   2.0    SCEE=1.20000048 SCNB=2.0\\n11-5 -6 -12    1     3.62500000  180.000   2.0    SCEE=1.20000048 SCNB=2.0\\n2 -1 -3 -7     1     0.18333333  180.000   2.0    SCEE=1.0 SCNB=1.0\\n2 -1 -7 -3     1     0.18333333  180.000   2.0    SCEE=1.0 SCNB=1.0\\n3 -1 -2 -7     1     0.18333333  180.000   2.0    SCEE=1.0 SCNB=1.0\\n3 -1 -7 -2     1     0.18333333  180.000   2.0    SCEE=1.0 SCNB=1.0\\n7 -1 -2 -3     1     0.18333333  180.000   2.0    SCEE=1.0 SCNB=1.0\\n7 -1 -3 -2     1     0.18333333  180.000   2.0    SCEE=1.0 SCNB=1.0\\n1 -2 -4 -8     1     0.18333333  180.000   2.0    SCEE=1.0 SCNB=1.0\\n1 -2 -8 -4     1     0.18333333  180.000   2.0    SCEE=1.0 SCNB=1.0\\n8 -1 -2 -4     1     0.18333333  180.000   2.0    SCEE=1.0 SCNB=1.0\\n1 -8 -2 -4     1     0.18333333  180.000   2.0    SCEE=1.0 SCNB=1.0\\n4 -1 -2 -8     1     0.18333333  180.000   2.0    SCEE=1.0 SCNB=1.0\\n1 -4 -2 -8     1     0.18333333  180.000   2.0    SCEE=1.0 SCNB=1.0\\n1 -3 -5 -9     1     0.18333333  180.000   2.0    SCEE=1.0 SCNB=1.0\\n1 -3 -9 -5     1     0.18333333  180.000   2.0    SCEE=1.0 SCNB=1.0\\n9 -1 -3 -5     1     0.18333333  180.000   2.0    SCEE=1.0 SCNB=1.0\\n1 -9 -3 -5     1     0.18333333  180.000   2.0    SCEE=1.0 SCNB=1.0\\n5 -1 -3 -9     1     0.18333333  180.000   2.0    SCEE=1.0 SCNB=1.0\\n1 -5 -3 -9     1     0.18333333  180.000   2.0    SCEE=1.0 SCNB=1.0\\n2 -4 -6 -10    1     0.18333333  180.000   2.0    SCEE=1.0 SCNB=1.0\\n2 -4 -10-6     1     0.18333333  180.000   2.0    SCEE=1.0 SCNB=1.0\\n6 -4 -2 -10    1     0.18333333  180.000   2.0    SCEE=1.0 SCNB=1.0\\n6 -4 -10-2     1     0.18333333  180.000   2.0    SCEE=1.0 SCNB=1.0\\n10-4 -2 -6     1     0.18333333  180.000   2.0    SCEE=1.0 SCNB=1.0\\n10-4 -6 -2     1     0.18333333  180.000   2.0    SCEE=1.0 SCNB=1.0\\n3 -5 -6 -11    1     0.18333333  180.000   2.0    SCEE=1.0 SCNB=1.0\\n3 -5 -11-6     1     0.18333333  180.000   2.0    SCEE=1.0 SCNB=1.0\\n6 -5 -3 -11    1     0.18333333  180.000   2.0    SCEE=1.0 SCNB=1.0\\n6 -5 -11-3     1     0.18333333  180.000   2.0    SCEE=1.0 SCNB=1.0\\n11-5 -3 -6     1     0.18333333  180.000   2.0    SCEE=1.0 SCNB=1.0\\n11-5 -6 -3     1     0.18333333  180.000   2.0    SCEE=1.0 SCNB=1.0\\n4 -6 -5 -12    1     0.18333333  180.000   2.0    SCEE=1.0 SCNB=1.0\\n4 -6 -12-5     1     0.18333333  180.000   2.0    SCEE=1.0 SCNB=1.0\\n5 -6 -4 -12    1     0.18333333  180.000   2.0    SCEE=1.0 SCNB=1.0\\n5 -6 -12-4     1     0.18333333  180.000   2.0    SCEE=1.0 SCNB=1.0\\n12-6 -4 -5     1     0.18333333  180.000   2.0    SCEE=1.0 SCNB=1.0\\n12-6 -5 -4     1     0.18333333  180.000   2.0    SCEE=1.0 SCNB=1.0\\n\\nIMPROPER\\n\\nNONB\\n1     1.90800000   0.08600000\\n2     1.90800000   0.08600000\\n3     1.90800000   0.08600000\\n4     1.90800000   0.08600000\\n5     1.90800000   0.08600000\\n6     1.90800000   0.08600000\\n7     1.45900000   0.01500000\\n8     1.45900000   0.01500000\\n9     1.45900000   0.01500000\\n10    1.45900000   0.01500000\\n11    1.45900000   0.01500000\\n12    1.45900000   0.01500000\\n\\n'"
      ]
     },
     "execution_count": 26,
     "metadata": {},
     "output_type": "execute_result"
    }
   ],
   "source": [
    "smirnoff_frcmod"
   ]
  },
  {
   "cell_type": "code",
   "execution_count": 40,
   "metadata": {
    "scrolled": true
   },
   "outputs": [],
   "source": [
    "import re\n",
    "opening = \"MASS\"\n",
    "between = \"(.*?)\"\n",
    "closing = \"BOND\"\n",
    "pattern = opening + between + closing\n",
    "atoms = re.findall(pattern, smirnoff_frcmod, re.DOTALL)"
   ]
  },
  {
   "cell_type": "code",
   "execution_count": 60,
   "metadata": {},
   "outputs": [],
   "source": [
    "atom_list = atoms[0].split(\"\\n\")"
   ]
  },
  {
   "cell_type": "code",
   "execution_count": 85,
   "metadata": {},
   "outputs": [
    {
     "name": "stdout",
     "output_type": "stream",
     "text": [
      "1\n",
      "2\n",
      "3\n",
      "4\n",
      "5\n",
      "6\n",
      "7\n",
      "8\n",
      "9\n",
      "10\n",
      "11\n",
      "12\n"
     ]
    }
   ],
   "source": [
    "new_atoms = []\n",
    "for atom in atom_list[1:-2]:\n",
    "    atom_type, mass = atom.split()\n",
    "    new_atoms.append(f\"{dictionary[atom_type]}{mass:>10}\")"
   ]
  },
  {
   "cell_type": "code",
   "execution_count": 87,
   "metadata": {},
   "outputs": [],
   "source": [
    "opening = \"BOND\"\n",
    "between = \"(.*?)\"\n",
    "closing = \"ANGLE\"\n",
    "pattern = opening + between + closing\n",
    "bonds = re.findall(pattern, smirnoff_frcmod, re.DOTALL)"
   ]
  },
  {
   "cell_type": "code",
   "execution_count": 88,
   "metadata": {},
   "outputs": [],
   "source": [
    "bond_list = bonds[0].split(\"\\n\")"
   ]
  },
  {
   "cell_type": "code",
   "execution_count": 132,
   "metadata": {},
   "outputs": [],
   "source": [
    "new_bonds = []\n",
    "for bond in bond_list[1:-2]:\n",
    "    atom_one, atom_two, k, r = bond.split()\n",
    "    atom_two = atom_two.replace(\"-\", \"\")\n",
    "    new_atom_one = dictionary[atom_one]\n",
    "    new_atom_two = dictionary[atom_two]\n",
    "    new_bonds.append(f\"{new_atom_one:<2}-{new_atom_two:<2}{k:>12}{r:>7}\")"
   ]
  },
  {
   "cell_type": "code",
   "execution_count": 133,
   "metadata": {},
   "outputs": [
    {
     "data": {
      "text/plain": [
       "['',\n",
       " '1 -2     469.000   1.400',\n",
       " '1 -3     469.000   1.400',\n",
       " '2 -4     469.000   1.400',\n",
       " '3 -5     469.000   1.400',\n",
       " '4 -6     469.000   1.400',\n",
       " '5 -6     469.000   1.400',\n",
       " '1 -7     367.000   1.080',\n",
       " '2 -8     367.000   1.080',\n",
       " '3 -9     367.000   1.080',\n",
       " '4 -10    367.000   1.080',\n",
       " '5 -11    367.000   1.080',\n",
       " '6 -12    367.000   1.080',\n",
       " '',\n",
       " '']"
      ]
     },
     "execution_count": 133,
     "metadata": {},
     "output_type": "execute_result"
    }
   ],
   "source": [
    "bond_list"
   ]
  },
  {
   "cell_type": "code",
   "execution_count": 134,
   "metadata": {},
   "outputs": [
    {
     "data": {
      "text/plain": [
       "['ca-ca     469.000  1.400',\n",
       " 'ca-ca     469.000  1.400',\n",
       " 'ca-ca     469.000  1.400',\n",
       " 'ca-ca     469.000  1.400',\n",
       " 'ca-ca     469.000  1.400',\n",
       " 'ca-ca     469.000  1.400',\n",
       " 'ca-ha     367.000  1.080',\n",
       " 'ca-ha     367.000  1.080',\n",
       " 'ca-ha     367.000  1.080',\n",
       " 'ca-ha     367.000  1.080',\n",
       " 'ca-ha     367.000  1.080',\n",
       " 'ca-ha     367.000  1.080']"
      ]
     },
     "execution_count": 134,
     "metadata": {},
     "output_type": "execute_result"
    }
   ],
   "source": [
    "new_bonds"
   ]
  },
  {
   "cell_type": "code",
   "execution_count": 147,
   "metadata": {},
   "outputs": [],
   "source": [
    "opening = \"ANGLE\"\n",
    "between = \"(.*?)\"\n",
    "closing = \"DIHE\"\n",
    "pattern = opening + between + closing\n",
    "angles = re.findall(pattern, smirnoff_frcmod, re.DOTALL)\n",
    "\n",
    "angles_list = angles[0].split(\"\\n\")\n",
    "\n",
    "new_angles = []\n",
    "for angle in angles_list[1:-2]:\n",
    "    atom_one, atom_two, atom_three, k, theta = angle.split()\n",
    "    atom_two = atom_two.replace(\"-\", \"\")\n",
    "    atom_three = atom_three.replace(\"-\", \"\")\n",
    "    new_atom_one = dictionary[atom_one]\n",
    "    new_atom_two = dictionary[atom_two]\n",
    "    new_atom_three = dictionary[atom_three]\n",
    "    new_angles.append(f\"{new_atom_one:<2}-{new_atom_two:<2}-{new_atom_three:<2}{k:>11}{theta:>9}\")"
   ]
  },
  {
   "cell_type": "code",
   "execution_count": 148,
   "metadata": {},
   "outputs": [
    {
     "data": {
      "text/plain": [
       "['',\n",
       " '2 -1 -3      70.000  120.000',\n",
       " '1 -2 -4      70.000  120.000',\n",
       " '1 -3 -5      70.000  120.000',\n",
       " '2 -4 -6      70.000  120.000',\n",
       " '3 -5 -6      70.000  120.000',\n",
       " '4 -6 -5      70.000  120.000',\n",
       " '2 -1 -7      50.000  120.000',\n",
       " '3 -1 -7      50.000  120.000',\n",
       " '1 -2 -8      50.000  120.000',\n",
       " '4 -2 -8      50.000  120.000',\n",
       " '1 -3 -9      50.000  120.000',\n",
       " '5 -3 -9      50.000  120.000',\n",
       " '2 -4 -10     50.000  120.000',\n",
       " '6 -4 -10     50.000  120.000',\n",
       " '3 -5 -11     50.000  120.000',\n",
       " '6 -5 -11     50.000  120.000',\n",
       " '4 -6 -12     50.000  120.000',\n",
       " '5 -6 -12     50.000  120.000',\n",
       " '',\n",
       " '']"
      ]
     },
     "execution_count": 148,
     "metadata": {},
     "output_type": "execute_result"
    }
   ],
   "source": [
    "angles_list"
   ]
  },
  {
   "cell_type": "code",
   "execution_count": 149,
   "metadata": {},
   "outputs": [
    {
     "data": {
      "text/plain": [
       "['ca-ca-ca     70.000  120.000',\n",
       " 'ca-ca-ca     70.000  120.000',\n",
       " 'ca-ca-ca     70.000  120.000',\n",
       " 'ca-ca-ca     70.000  120.000',\n",
       " 'ca-ca-ca     70.000  120.000',\n",
       " 'ca-ca-ca     70.000  120.000',\n",
       " 'ca-ca-ha     50.000  120.000',\n",
       " 'ca-ca-ha     50.000  120.000',\n",
       " 'ca-ca-ha     50.000  120.000',\n",
       " 'ca-ca-ha     50.000  120.000',\n",
       " 'ca-ca-ha     50.000  120.000',\n",
       " 'ca-ca-ha     50.000  120.000',\n",
       " 'ca-ca-ha     50.000  120.000',\n",
       " 'ca-ca-ha     50.000  120.000',\n",
       " 'ca-ca-ha     50.000  120.000',\n",
       " 'ca-ca-ha     50.000  120.000',\n",
       " 'ca-ca-ha     50.000  120.000',\n",
       " 'ca-ca-ha     50.000  120.000']"
      ]
     },
     "execution_count": 149,
     "metadata": {},
     "output_type": "execute_result"
    }
   ],
   "source": [
    "new_angles"
   ]
  },
  {
   "cell_type": "code",
   "execution_count": 255,
   "metadata": {},
   "outputs": [],
   "source": [
    "opening = \"DIHE\"\n",
    "between = \"(.*?)\"\n",
    "closing = \"IMPROPER\"\n",
    "pattern = opening + between + closing\n",
    "dihedrals = re.findall(pattern, smirnoff_frcmod, re.DOTALL)\n",
    "\n",
    "dihedrals_list = dihedrals[0].split(\"\\n\")\n",
    "\n",
    "new_dihedrals = []\n",
    "for dihedral in dihedrals_list[1:-2]:\n",
    "    try:\n",
    "        atom_one, atom_two, atom_three, atom_four, idiv, k, theta, per, scee, scnb = dihedral.split()\n",
    "    except ValueError as e:\n",
    "        if str(e) == \"not enough values to unpack (expected 10, got 9)\":\n",
    "            atom_one, atom_two, atom_three, stuff = dihedral.split(\"-\")\n",
    "            atom_four, idiv, k, theta, per, scee, scnb = stuff.split()\n",
    "                    \n",
    "    atom_two = atom_two.replace(\"-\", \"\")\n",
    "    atom_three = atom_three.replace(\"-\", \"\")\n",
    "    atom_four = atom_four.replace(\"-\", \"\")\n",
    "    new_atom_one = dictionary[atom_one.strip()]\n",
    "    new_atom_two = dictionary[atom_two.strip()]\n",
    "    new_atom_three = dictionary[atom_three.strip()]\n",
    "    new_atom_four = dictionary[atom_four.strip()]\n",
    "    new_dihedrals.append(f\"{new_atom_one:<2}-{new_atom_two:<2}-{new_atom_three:<2}-{new_atom_four:<2}{idiv:>5}{k:>15}{theta:>9}{per:>6}    {scee:<6} {scnb}\")"
   ]
  },
  {
   "cell_type": "markdown",
   "metadata": {},
   "source": [
    "Haven't done with impropers yet..."
   ]
  },
  {
   "cell_type": "code",
   "execution_count": 276,
   "metadata": {},
   "outputs": [],
   "source": [
    "opening = \"NONB\"\n",
    "forwards = \".*$\"\n",
    "pattern = opening + forwards\n",
    "nonb = re.findall(pattern, smirnoff_frcmod, re.DOTALL)\n",
    "\n",
    "nonb_list = nonb[0].split(\"\\n\")\n",
    "\n",
    "new_nonb = []\n",
    "for nonb in nonb_list[1:-2]:\n",
    "    atom_type, sigma, epsilon = nonb.split()\n",
    "    new_nonb.append(f\"{dictionary[atom_type]}{sigma:>14}{epsilon:>14}\")"
   ]
  },
  {
   "cell_type": "code",
   "execution_count": 277,
   "metadata": {},
   "outputs": [
    {
     "data": {
      "text/plain": [
       "['NONB',\n",
       " '1     1.90800000   0.08600000',\n",
       " '2     1.90800000   0.08600000',\n",
       " '3     1.90800000   0.08600000',\n",
       " '4     1.90800000   0.08600000',\n",
       " '5     1.90800000   0.08600000',\n",
       " '6     1.90800000   0.08600000',\n",
       " '7     1.45900000   0.01500000',\n",
       " '8     1.45900000   0.01500000',\n",
       " '9     1.45900000   0.01500000',\n",
       " '10    1.45900000   0.01500000',\n",
       " '11    1.45900000   0.01500000',\n",
       " '12    1.45900000   0.01500000',\n",
       " '',\n",
       " '']"
      ]
     },
     "execution_count": 277,
     "metadata": {},
     "output_type": "execute_result"
    }
   ],
   "source": [
    "nonb_list"
   ]
  },
  {
   "cell_type": "code",
   "execution_count": 278,
   "metadata": {},
   "outputs": [
    {
     "data": {
      "text/plain": [
       "['ca    1.90800000    0.08600000',\n",
       " 'ca    1.90800000    0.08600000',\n",
       " 'ca    1.90800000    0.08600000',\n",
       " 'ca    1.90800000    0.08600000',\n",
       " 'ca    1.90800000    0.08600000',\n",
       " 'ca    1.90800000    0.08600000',\n",
       " 'ha    1.45900000    0.01500000',\n",
       " 'ha    1.45900000    0.01500000',\n",
       " 'ha    1.45900000    0.01500000',\n",
       " 'ha    1.45900000    0.01500000',\n",
       " 'ha    1.45900000    0.01500000',\n",
       " 'ha    1.45900000    0.01500000']"
      ]
     },
     "execution_count": 278,
     "metadata": {},
     "output_type": "execute_result"
    }
   ],
   "source": [
    "new_nonb"
   ]
  },
  {
   "cell_type": "code",
   "execution_count": 280,
   "metadata": {},
   "outputs": [
    {
     "data": {
      "text/plain": [
       "'Force field parameters from benzene.gaff-smirnoff.prmtop'"
      ]
     },
     "execution_count": 280,
     "metadata": {},
     "output_type": "execute_result"
    }
   ],
   "source": [
    "smirnoff_frcmod.split(\"\\n\")[0]"
   ]
  },
  {
   "cell_type": "code",
   "execution_count": null,
   "metadata": {},
   "outputs": [],
   "source": []
  }
 ],
 "metadata": {
  "kernelspec": {
   "display_name": "Python 3",
   "language": "python",
   "name": "python3"
  },
  "language_info": {
   "codemirror_mode": {
    "name": "ipython",
    "version": 3
   },
   "file_extension": ".py",
   "mimetype": "text/x-python",
   "name": "python",
   "nbconvert_exporter": "python",
   "pygments_lexer": "ipython3",
   "version": "3.7.3"
  }
 },
 "nbformat": 4,
 "nbformat_minor": 2
}
