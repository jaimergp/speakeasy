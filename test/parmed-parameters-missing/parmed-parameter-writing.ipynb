{
 "cells": [
  {
   "cell_type": "markdown",
   "metadata": {},
   "source": [
    "# Test whether writing a `frcmod` file from ParmEd after setting up an OpenMM `System` with smirnoff99Frosst parameters can be successfully used with `tleap`"
   ]
  },
  {
   "cell_type": "code",
   "execution_count": 1,
   "metadata": {},
   "outputs": [],
   "source": [
    "import numpy as np\n",
    "import parmed as pmd\n",
    "from openforcefield.typing.engines.smirnoff import ForceField, unit"
   ]
  },
  {
   "cell_type": "code",
   "execution_count": 2,
   "metadata": {},
   "outputs": [],
   "source": [
    "from openeye.oechem import (\n",
    "    oemolistream, oemolostream, OEIFlavor_MOL2_Forcefield,\n",
    "    OEIFlavor_Generic_Default, OEIFlavor_PDB_Default, OEIFlavor_PDB_ALL,\n",
    "    OEFormat_MOL2, OEFormat_MOL2H, OEWriteMolecule, OETriposAtomNames, OEMol,\n",
    "    OEFormat_PDB, OESmilesToMol, OEAddExplicitHydrogens, OEHasAtomIdx,\n",
    "OEAtomGetResidue)"
   ]
  },
  {
   "cell_type": "markdown",
   "metadata": {},
   "source": [
    "## Read in the host and guest molecules to `OEMol`s"
   ]
  },
  {
   "cell_type": "code",
   "execution_count": 3,
   "metadata": {},
   "outputs": [],
   "source": [
    "filename = 'MGO-res1-sybyl.mol2'\n",
    "molecules = []\n",
    "\n",
    "ifs = oemolistream()\n",
    "flavor = OEIFlavor_MOL2_Forcefield\n",
    "ifs.SetFlavor(OEFormat_MOL2, flavor)\n",
    "ifs.open(filename)\n",
    "\n",
    "for mol in ifs.GetOEMols():\n",
    "    OETriposAtomNames(mol)\n",
    "    molecules.append(OEMol(mol))\n",
    "    \n",
    "filename = 'MOL-sybyl.mol2'\n",
    "ifs = oemolistream()\n",
    "flavor = OEIFlavor_MOL2_Forcefield\n",
    "ifs.SetFlavor(OEFormat_MOL2, flavor)\n",
    "ifs.open(filename)\n",
    "\n",
    "for mol in ifs.GetOEMols():\n",
    "    OETriposAtomNames(mol)\n",
    "    molecules.append(OEMol(mol))"
   ]
  },
  {
   "cell_type": "markdown",
   "metadata": {},
   "source": [
    "## Read the in the topology information from a PDB"
   ]
  },
  {
   "cell_type": "code",
   "execution_count": 4,
   "metadata": {},
   "outputs": [],
   "source": [
    "filename = 'smirnoff.pruned.pdb'\n",
    "pdb = pmd.load_file(filename)\n",
    "topology = pmd.Structure()\n",
    "topology += pdb.split()[0][0]\n",
    "topology += pdb.split()[1][0]"
   ]
  },
  {
   "cell_type": "code",
   "execution_count": 5,
   "metadata": {},
   "outputs": [
    {
     "data": {
      "text/plain": [
       "<Structure 143 atoms; 7 residues; 148 bonds; NOT parametrized>"
      ]
     },
     "execution_count": 5,
     "metadata": {},
     "output_type": "execute_result"
    }
   ],
   "source": [
    "topology"
   ]
  },
  {
   "cell_type": "code",
   "execution_count": 6,
   "metadata": {},
   "outputs": [],
   "source": [
    "topology.write_pdb('MGO-MOL.pdb')"
   ]
  },
  {
   "cell_type": "markdown",
   "metadata": {},
   "source": [
    "## Create the OpenMM `System`"
   ]
  },
  {
   "cell_type": "code",
   "execution_count": 7,
   "metadata": {},
   "outputs": [
    {
     "ename": "Exception",
     "evalue": "No provided molecule matches topology molecule:\nAtom        0    C1     0 MGO\nAtom        1    H1     0 MGO\nAtom        2    O1     0 MGO\nAtom        3    C2     0 MGO\nAtom        4    H2     0 MGO\nAtom        5    O2     0 MGO\nAtom        6   HO2     0 MGO\nAtom        7    C3     0 MGO\nAtom        8    H3     0 MGO\nAtom        9    O3     0 MGO\nAtom       10   HO3     0 MGO\nAtom       11    C4     0 MGO\nAtom       12    H4     0 MGO\nAtom       13    C5     0 MGO\nAtom       14    H5     0 MGO\nAtom       15    O5     0 MGO\nAtom       16    C6     0 MGO\nAtom       17   H61     0 MGO\nAtom       18   H62     0 MGO\nAtom       19    O6     0 MGO\nAtom       20   HO6     0 MGO\nAtom       21    C1     1 MGO\nAtom       22    H1     1 MGO\nAtom       23    O1     1 MGO\nAtom       24    C2     1 MGO\nAtom       25    H2     1 MGO\nAtom       26    O2     1 MGO\nAtom       27   HO2     1 MGO\nAtom       28    C3     1 MGO\nAtom       29    H3     1 MGO\nAtom       30    O3     1 MGO\nAtom       31   HO3     1 MGO\nAtom       32    C4     1 MGO\nAtom       33    H4     1 MGO\nAtom       34    C5     1 MGO\nAtom       35    H5     1 MGO\nAtom       36    O5     1 MGO\nAtom       37    C6     1 MGO\nAtom       38   H61     1 MGO\nAtom       39   H62     1 MGO\nAtom       40    O6     1 MGO\nAtom       41   HO6     1 MGO\nAtom       42    C1     2 MGO\nAtom       43    H1     2 MGO\nAtom       44    O1     2 MGO\nAtom       45    C2     2 MGO\nAtom       46    H2     2 MGO\nAtom       47    O2     2 MGO\nAtom       48   HO2     2 MGO\nAtom       49    C3     2 MGO\nAtom       50    H3     2 MGO\nAtom       51    O3     2 MGO\nAtom       52   HO3     2 MGO\nAtom       53    C4     2 MGO\nAtom       54    H4     2 MGO\nAtom       55    C5     2 MGO\nAtom       56    H5     2 MGO\nAtom       57    O5     2 MGO\nAtom       58    C6     2 MGO\nAtom       59   H61     2 MGO\nAtom       60   H62     2 MGO\nAtom       61    O6     2 MGO\nAtom       62   HO6     2 MGO\nAtom       63    C1     3 MGO\nAtom       64    H1     3 MGO\nAtom       65    O1     3 MGO\nAtom       66    C2     3 MGO\nAtom       67    H2     3 MGO\nAtom       68    O2     3 MGO\nAtom       69   HO2     3 MGO\nAtom       70    C3     3 MGO\nAtom       71    H3     3 MGO\nAtom       72    O3     3 MGO\nAtom       73   HO3     3 MGO\nAtom       74    C4     3 MGO\nAtom       75    H4     3 MGO\nAtom       76    C5     3 MGO\nAtom       77    H5     3 MGO\nAtom       78    O5     3 MGO\nAtom       79    C6     3 MGO\nAtom       80   H61     3 MGO\nAtom       81   H62     3 MGO\nAtom       82    O6     3 MGO\nAtom       83   HO6     3 MGO\nAtom       84    C1     4 MGO\nAtom       85    H1     4 MGO\nAtom       86    O1     4 MGO\nAtom       87    C2     4 MGO\nAtom       88    H2     4 MGO\nAtom       89    O2     4 MGO\nAtom       90   HO2     4 MGO\nAtom       91    C3     4 MGO\nAtom       92    H3     4 MGO\nAtom       93    O3     4 MGO\nAtom       94   HO3     4 MGO\nAtom       95    C4     4 MGO\nAtom       96    H4     4 MGO\nAtom       97    C5     4 MGO\nAtom       98    H5     4 MGO\nAtom       99    O5     4 MGO\nAtom      100    C6     4 MGO\nAtom      101   H61     4 MGO\nAtom      102   H62     4 MGO\nAtom      103    O6     4 MGO\nAtom      104   HO6     4 MGO\nAtom      105    C1     5 MGO\nAtom      106    H1     5 MGO\nAtom      107    O1     5 MGO\nAtom      108    C2     5 MGO\nAtom      109    H2     5 MGO\nAtom      110    O2     5 MGO\nAtom      111   HO2     5 MGO\nAtom      112    C3     5 MGO\nAtom      113    H3     5 MGO\nAtom      114    O3     5 MGO\nAtom      115   HO3     5 MGO\nAtom      116    C4     5 MGO\nAtom      117    H4     5 MGO\nAtom      118    C5     5 MGO\nAtom      119    H5     5 MGO\nAtom      120    O5     5 MGO\nAtom      121    C6     5 MGO\nAtom      122   H61     5 MGO\nAtom      123   H62     5 MGO\nAtom      124    O6     5 MGO\nAtom      125   HO6     5 MGO\n",
     "output_type": "error",
     "traceback": [
      "\u001b[0;31m---------------------------------------------------------------------------\u001b[0m",
      "\u001b[0;31mException\u001b[0m                                 Traceback (most recent call last)",
      "\u001b[0;32m<ipython-input-7-c80c93e0a285>\u001b[0m in \u001b[0;36m<module>\u001b[0;34m()\u001b[0m\n\u001b[1;32m      4\u001b[0m     \u001b[0mmolecules\u001b[0m\u001b[0;34m,\u001b[0m\u001b[0;34m\u001b[0m\u001b[0m\n\u001b[1;32m      5\u001b[0m     \u001b[0mnonbondedCutoff\u001b[0m\u001b[0;34m=\u001b[0m\u001b[0;36m1.1\u001b[0m \u001b[0;34m*\u001b[0m \u001b[0munit\u001b[0m\u001b[0;34m.\u001b[0m\u001b[0mnanometer\u001b[0m\u001b[0;34m,\u001b[0m\u001b[0;34m\u001b[0m\u001b[0m\n\u001b[0;32m----> 6\u001b[0;31m     ewaldErrorTolerance=1e-4)\n\u001b[0m",
      "\u001b[0;32m~/software/miniconda3/envs/speakeasy/lib/python3.6/site-packages/openforcefield/typing/engines/smirnoff/forcefield.py\u001b[0m in \u001b[0;36mcreateSystem\u001b[0;34m(self, topology, molecules, nonbondedMethod, nonbondedCutoff, constraints, rigidWater, removeCMMotion, hydrogenMass, residueTemplates, chargeMethod, verbose, **kwargs)\u001b[0m\n\u001b[1;32m    967\u001b[0m \u001b[0;34m\u001b[0m\u001b[0m\n\u001b[1;32m    968\u001b[0m         \u001b[0;31m# Work with a modified form of the topology that provides additional accessors.\u001b[0m\u001b[0;34m\u001b[0m\u001b[0;34m\u001b[0m\u001b[0m\n\u001b[0;32m--> 969\u001b[0;31m         \u001b[0mtopology\u001b[0m \u001b[0;34m=\u001b[0m \u001b[0m_Topology\u001b[0m\u001b[0;34m(\u001b[0m\u001b[0mtopology\u001b[0m\u001b[0;34m,\u001b[0m \u001b[0mmolecules\u001b[0m\u001b[0;34m)\u001b[0m\u001b[0;34m\u001b[0m\u001b[0m\n\u001b[0m\u001b[1;32m    970\u001b[0m \u001b[0;34m\u001b[0m\u001b[0m\n\u001b[1;32m    971\u001b[0m         \u001b[0;31m# If the charge method was not an OpenEye AM1 method and we need Wiberg bond orders, obtain Wiberg bond orders\u001b[0m\u001b[0;34m\u001b[0m\u001b[0;34m\u001b[0m\u001b[0m\n",
      "\u001b[0;32m~/software/miniconda3/envs/speakeasy/lib/python3.6/site-packages/openforcefield/typing/engines/smirnoff/forcefield.py\u001b[0m in \u001b[0;36m__init__\u001b[0;34m(self, topology, reference_molecules)\u001b[0m\n\u001b[1;32m    193\u001b[0m \u001b[0;34m\u001b[0m\u001b[0m\n\u001b[1;32m    194\u001b[0m         \u001b[0;31m# Identify all molecules and atom mappings.\u001b[0m\u001b[0;34m\u001b[0m\u001b[0;34m\u001b[0m\u001b[0m\n\u001b[0;32m--> 195\u001b[0;31m         \u001b[0mself\u001b[0m\u001b[0;34m.\u001b[0m\u001b[0m_identifyMolecules\u001b[0m\u001b[0;34m(\u001b[0m\u001b[0;34m)\u001b[0m\u001b[0;34m\u001b[0m\u001b[0m\n\u001b[0m\u001b[1;32m    196\u001b[0m \u001b[0;34m\u001b[0m\u001b[0m\n\u001b[1;32m    197\u001b[0m         \u001b[0;31m# Get/initialize bond orders\u001b[0m\u001b[0;34m\u001b[0m\u001b[0;34m\u001b[0m\u001b[0m\n",
      "\u001b[0;32m~/software/miniconda3/envs/speakeasy/lib/python3.6/site-packages/openforcefield/typing/engines/smirnoff/forcefield.py\u001b[0m in \u001b[0;36m_identifyMolecules\u001b[0;34m(self)\u001b[0m\n\u001b[1;32m    371\u001b[0m                 \u001b[0;32mfor\u001b[0m \u001b[0mindex\u001b[0m \u001b[0;32min\u001b[0m \u001b[0msorted\u001b[0m\u001b[0;34m(\u001b[0m\u001b[0mlist\u001b[0m\u001b[0;34m(\u001b[0m\u001b[0mmolecule_graph\u001b[0m\u001b[0;34m)\u001b[0m\u001b[0;34m)\u001b[0m\u001b[0;34m:\u001b[0m\u001b[0;34m\u001b[0m\u001b[0m\n\u001b[1;32m    372\u001b[0m                     \u001b[0mmsg\u001b[0m \u001b[0;34m+=\u001b[0m \u001b[0;34m'Atom %8d %5s %5d %3s\\n'\u001b[0m \u001b[0;34m%\u001b[0m \u001b[0;34m(\u001b[0m\u001b[0matoms\u001b[0m\u001b[0;34m[\u001b[0m\u001b[0mindex\u001b[0m\u001b[0;34m]\u001b[0m\u001b[0;34m.\u001b[0m\u001b[0mindex\u001b[0m\u001b[0;34m,\u001b[0m \u001b[0matoms\u001b[0m\u001b[0;34m[\u001b[0m\u001b[0mindex\u001b[0m\u001b[0;34m]\u001b[0m\u001b[0;34m.\u001b[0m\u001b[0mname\u001b[0m\u001b[0;34m,\u001b[0m \u001b[0matoms\u001b[0m\u001b[0;34m[\u001b[0m\u001b[0mindex\u001b[0m\u001b[0;34m]\u001b[0m\u001b[0;34m.\u001b[0m\u001b[0mresidue\u001b[0m\u001b[0;34m.\u001b[0m\u001b[0mindex\u001b[0m\u001b[0;34m,\u001b[0m \u001b[0matoms\u001b[0m\u001b[0;34m[\u001b[0m\u001b[0mindex\u001b[0m\u001b[0;34m]\u001b[0m\u001b[0;34m.\u001b[0m\u001b[0mresidue\u001b[0m\u001b[0;34m.\u001b[0m\u001b[0mname\u001b[0m\u001b[0;34m)\u001b[0m\u001b[0;34m\u001b[0m\u001b[0m\n\u001b[0;32m--> 373\u001b[0;31m                 \u001b[0;32mraise\u001b[0m \u001b[0mException\u001b[0m\u001b[0;34m(\u001b[0m\u001b[0mmsg\u001b[0m\u001b[0;34m)\u001b[0m\u001b[0;34m\u001b[0m\u001b[0m\n\u001b[0m\u001b[1;32m    374\u001b[0m \u001b[0;34m\u001b[0m\u001b[0m\n\u001b[1;32m    375\u001b[0m     \u001b[0;32mdef\u001b[0m \u001b[0m_updateBondOrders\u001b[0m\u001b[0;34m(\u001b[0m\u001b[0mself\u001b[0m\u001b[0;34m,\u001b[0m \u001b[0mWiberg\u001b[0m \u001b[0;34m=\u001b[0m \u001b[0;32mFalse\u001b[0m\u001b[0;34m)\u001b[0m\u001b[0;34m:\u001b[0m\u001b[0;34m\u001b[0m\u001b[0m\n",
      "\u001b[0;31mException\u001b[0m: No provided molecule matches topology molecule:\nAtom        0    C1     0 MGO\nAtom        1    H1     0 MGO\nAtom        2    O1     0 MGO\nAtom        3    C2     0 MGO\nAtom        4    H2     0 MGO\nAtom        5    O2     0 MGO\nAtom        6   HO2     0 MGO\nAtom        7    C3     0 MGO\nAtom        8    H3     0 MGO\nAtom        9    O3     0 MGO\nAtom       10   HO3     0 MGO\nAtom       11    C4     0 MGO\nAtom       12    H4     0 MGO\nAtom       13    C5     0 MGO\nAtom       14    H5     0 MGO\nAtom       15    O5     0 MGO\nAtom       16    C6     0 MGO\nAtom       17   H61     0 MGO\nAtom       18   H62     0 MGO\nAtom       19    O6     0 MGO\nAtom       20   HO6     0 MGO\nAtom       21    C1     1 MGO\nAtom       22    H1     1 MGO\nAtom       23    O1     1 MGO\nAtom       24    C2     1 MGO\nAtom       25    H2     1 MGO\nAtom       26    O2     1 MGO\nAtom       27   HO2     1 MGO\nAtom       28    C3     1 MGO\nAtom       29    H3     1 MGO\nAtom       30    O3     1 MGO\nAtom       31   HO3     1 MGO\nAtom       32    C4     1 MGO\nAtom       33    H4     1 MGO\nAtom       34    C5     1 MGO\nAtom       35    H5     1 MGO\nAtom       36    O5     1 MGO\nAtom       37    C6     1 MGO\nAtom       38   H61     1 MGO\nAtom       39   H62     1 MGO\nAtom       40    O6     1 MGO\nAtom       41   HO6     1 MGO\nAtom       42    C1     2 MGO\nAtom       43    H1     2 MGO\nAtom       44    O1     2 MGO\nAtom       45    C2     2 MGO\nAtom       46    H2     2 MGO\nAtom       47    O2     2 MGO\nAtom       48   HO2     2 MGO\nAtom       49    C3     2 MGO\nAtom       50    H3     2 MGO\nAtom       51    O3     2 MGO\nAtom       52   HO3     2 MGO\nAtom       53    C4     2 MGO\nAtom       54    H4     2 MGO\nAtom       55    C5     2 MGO\nAtom       56    H5     2 MGO\nAtom       57    O5     2 MGO\nAtom       58    C6     2 MGO\nAtom       59   H61     2 MGO\nAtom       60   H62     2 MGO\nAtom       61    O6     2 MGO\nAtom       62   HO6     2 MGO\nAtom       63    C1     3 MGO\nAtom       64    H1     3 MGO\nAtom       65    O1     3 MGO\nAtom       66    C2     3 MGO\nAtom       67    H2     3 MGO\nAtom       68    O2     3 MGO\nAtom       69   HO2     3 MGO\nAtom       70    C3     3 MGO\nAtom       71    H3     3 MGO\nAtom       72    O3     3 MGO\nAtom       73   HO3     3 MGO\nAtom       74    C4     3 MGO\nAtom       75    H4     3 MGO\nAtom       76    C5     3 MGO\nAtom       77    H5     3 MGO\nAtom       78    O5     3 MGO\nAtom       79    C6     3 MGO\nAtom       80   H61     3 MGO\nAtom       81   H62     3 MGO\nAtom       82    O6     3 MGO\nAtom       83   HO6     3 MGO\nAtom       84    C1     4 MGO\nAtom       85    H1     4 MGO\nAtom       86    O1     4 MGO\nAtom       87    C2     4 MGO\nAtom       88    H2     4 MGO\nAtom       89    O2     4 MGO\nAtom       90   HO2     4 MGO\nAtom       91    C3     4 MGO\nAtom       92    H3     4 MGO\nAtom       93    O3     4 MGO\nAtom       94   HO3     4 MGO\nAtom       95    C4     4 MGO\nAtom       96    H4     4 MGO\nAtom       97    C5     4 MGO\nAtom       98    H5     4 MGO\nAtom       99    O5     4 MGO\nAtom      100    C6     4 MGO\nAtom      101   H61     4 MGO\nAtom      102   H62     4 MGO\nAtom      103    O6     4 MGO\nAtom      104   HO6     4 MGO\nAtom      105    C1     5 MGO\nAtom      106    H1     5 MGO\nAtom      107    O1     5 MGO\nAtom      108    C2     5 MGO\nAtom      109    H2     5 MGO\nAtom      110    O2     5 MGO\nAtom      111   HO2     5 MGO\nAtom      112    C3     5 MGO\nAtom      113    H3     5 MGO\nAtom      114    O3     5 MGO\nAtom      115   HO3     5 MGO\nAtom      116    C4     5 MGO\nAtom      117    H4     5 MGO\nAtom      118    C5     5 MGO\nAtom      119    H5     5 MGO\nAtom      120    O5     5 MGO\nAtom      121    C6     5 MGO\nAtom      122   H61     5 MGO\nAtom      123   H62     5 MGO\nAtom      124    O6     5 MGO\nAtom      125   HO6     5 MGO\n"
     ]
    }
   ],
   "source": [
    "ff = ForceField('forcefield/smirnoff99Frosst.offxml')\n",
    "system = ff.createSystem(\n",
    "    topology.topology,\n",
    "    molecules,\n",
    "    nonbondedCutoff=1.1 * unit.nanometer,\n",
    "    ewaldErrorTolerance=1e-4)"
   ]
  },
  {
   "cell_type": "markdown",
   "metadata": {},
   "source": [
    "The OpenMM object has atom names, but not atom types."
   ]
  },
  {
   "cell_type": "code",
   "execution_count": null,
   "metadata": {},
   "outputs": [],
   "source": [
    "for atom in [x for _, x in zip(range(5), topology.topology.atoms())]:\n",
    "    print(atom.name)"
   ]
  },
  {
   "cell_type": "markdown",
   "metadata": {},
   "source": [
    "## Load into a ParmEd `Structure`"
   ]
  },
  {
   "cell_type": "code",
   "execution_count": null,
   "metadata": {},
   "outputs": [],
   "source": [
    "hg_structure = pmd.openmm.topsystem.load_topology(topology.topology, system, topology.positions)"
   ]
  },
  {
   "cell_type": "code",
   "execution_count": null,
   "metadata": {
    "scrolled": true
   },
   "outputs": [],
   "source": [
    "hg_parm = pmd.amber.AmberParm.from_structure(hg_structure)\n",
    "\n",
    "type(hg_parm)"
   ]
  },
  {
   "cell_type": "code",
   "execution_count": null,
   "metadata": {},
   "outputs": [],
   "source": [
    "guest_types = [f'G{i}' for i in range(10)] + [f'g{i}' for i in range(7)]"
   ]
  },
  {
   "cell_type": "code",
   "execution_count": null,
   "metadata": {},
   "outputs": [],
   "source": [
    "assert len(guest_types) >= molecules[1].GetMaxAtomIdx()"
   ]
  },
  {
   "cell_type": "code",
   "execution_count": null,
   "metadata": {},
   "outputs": [],
   "source": [
    "host_types = [f'{i}{j}' for j in range(10) for i in ['A', 'a', 'B', 'b', 'C', 'c', 'D', 'd', 'E', 'e',\n",
    "                                                    'F', 'f', 'I']]"
   ]
  },
  {
   "cell_type": "code",
   "execution_count": null,
   "metadata": {},
   "outputs": [],
   "source": [
    "assert len(host_types) >= molecules[0].GetMaxAtomIdx()"
   ]
  },
  {
   "cell_type": "markdown",
   "metadata": {},
   "source": [
    "There are a few ways to do this, but as a shortcut, I know the host atoms come before the guest atoms and I know how many atoms we have in each molecule, so..."
   ]
  },
  {
   "cell_type": "code",
   "execution_count": null,
   "metadata": {},
   "outputs": [],
   "source": [
    "new_atom_types = host_types[0:molecules[0].GetMaxAtomIdx()] + guest_types"
   ]
  },
  {
   "cell_type": "code",
   "execution_count": null,
   "metadata": {},
   "outputs": [],
   "source": [
    "assert len(new_atom_types) == len(hg_structure.atoms)"
   ]
  },
  {
   "cell_type": "code",
   "execution_count": null,
   "metadata": {},
   "outputs": [],
   "source": [
    "#structure = pmd.load_file('smirnoff.prmtop', structure=True)\n",
    "# If I don't re-read in the `structure`, it won't work. Completely unclear why.\n",
    "structure = hg_parm\n",
    "\n",
    "for index, atom in enumerate(structure.atoms):\n",
    "    atom.type = new_atom_types[index]\n",
    "    structure.parm_data['AMBER_ATOM_TYPE'][index] = new_atom_types[index]\n",
    "\n",
    "type(structure)"
   ]
  },
  {
   "cell_type": "code",
   "execution_count": null,
   "metadata": {},
   "outputs": [],
   "source": [
    "structure.load_atom_info()\n",
    "structure.fill_LJ()"
   ]
  },
  {
   "cell_type": "code",
   "execution_count": null,
   "metadata": {},
   "outputs": [],
   "source": [
    "new_parameters = pmd.amber.AmberParameterSet.from_structure(structure)\n",
    "new_parameters.write('smirnoff-unique.frcmod')"
   ]
  },
  {
   "cell_type": "markdown",
   "metadata": {},
   "source": [
    "## Write host and guest `mol2` files with the new atom types..."
   ]
  },
  {
   "cell_type": "code",
   "execution_count": null,
   "metadata": {},
   "outputs": [],
   "source": [
    "for residue in structure.residues:\n",
    "    print(residue.name)"
   ]
  },
  {
   "cell_type": "code",
   "execution_count": null,
   "metadata": {},
   "outputs": [],
   "source": [
    "single_guest = structure[':7']\n",
    "single_guest.save('MOL-unique.mol2', overwrite=True)\n",
    "\n",
    "single_host = structure[':1']\n",
    "single_host.save('MGO-unique.mol2', overwrite=True)"
   ]
  },
  {
   "cell_type": "markdown",
   "metadata": {},
   "source": [
    "## Write a `tleap` input file"
   ]
  },
  {
   "cell_type": "code",
   "execution_count": null,
   "metadata": {},
   "outputs": [],
   "source": [
    "with open('tleap.in', 'w') as file:\n",
    "    tleap_header = f'''\\n\n",
    "loadamberparams smirnoff-unique.frcmod\n",
    "MGO = loadmol2 MGO-unique.mol2\n",
    "MOL = loadmol2 MOL-unique.mol2\n",
    "\n",
    "model = loadpdb MGO-MOL.pdb\n",
    "bond model.1.O1 model.2.C4\n",
    "bond model.2.O1 model.3.C4\n",
    "bond model.3.O1 model.4.C4\n",
    "bond model.4.O1 model.5.C4\n",
    "bond model.5.O1 model.6.C4\n",
    "bond model.6.O1 model.1.C4\n",
    "\n",
    "check model\n",
    "saveamberparm smirnoff-unique.prmtop smirnoff-unique.rst7\n",
    "'''\n",
    "    file.write(tleap_header)"
   ]
  },
  {
   "cell_type": "code",
   "execution_count": null,
   "metadata": {},
   "outputs": [],
   "source": [
    "for bond in hg_parm.bonds:\n",
    "    if (bond.atom1.name == 'C4' and bond.atom2.name == 'O1') or (bond.atom2.name == 'C4' and bond.atom1.name == 'O1'):\n",
    "    #if bond.atom1.type =='B0' or bond.atom2.type == 'B0':\n",
    "        print(bond.atom1.type, bond.atom2.type)\n",
    "        print(bond)"
   ]
  },
  {
   "cell_type": "code",
   "execution_count": null,
   "metadata": {},
   "outputs": [],
   "source": []
  },
  {
   "cell_type": "code",
   "execution_count": null,
   "metadata": {},
   "outputs": [],
   "source": []
  }
 ],
 "metadata": {
  "kernelspec": {
   "display_name": "Python [default]",
   "language": "python",
   "name": "python3"
  },
  "language_info": {
   "codemirror_mode": {
    "name": "ipython",
    "version": 3
   },
   "file_extension": ".py",
   "mimetype": "text/x-python",
   "name": "python",
   "nbconvert_exporter": "python",
   "pygments_lexer": "ipython3",
   "version": "3.6.4"
  }
 },
 "nbformat": 4,
 "nbformat_minor": 2
}
