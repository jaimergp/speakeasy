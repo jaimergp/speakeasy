{
 "cells": [
  {
   "cell_type": "markdown",
   "metadata": {},
   "source": [
    "# Test whether writing a `frcmod` file from ParmEd after setting up an OpenMM `System` with smirnoff99Frosst parameters can be successfully used with `tleap`"
   ]
  },
  {
   "cell_type": "code",
   "execution_count": 1,
   "metadata": {},
   "outputs": [],
   "source": [
    "import numpy as np\n",
    "import parmed as pmd\n",
    "from openforcefield.typing.engines.smirnoff import ForceField, unit"
   ]
  },
  {
   "cell_type": "code",
   "execution_count": 2,
   "metadata": {},
   "outputs": [],
   "source": [
    "from openeye.oechem import (\n",
    "    oemolistream, oemolostream, OEIFlavor_MOL2_Forcefield,\n",
    "    OEIFlavor_Generic_Default, OEIFlavor_PDB_Default, OEIFlavor_PDB_ALL,\n",
    "    OEFormat_MOL2, OEFormat_MOL2H, OEWriteMolecule, OETriposAtomNames, OEMol,\n",
    "    OEFormat_PDB, OESmilesToMol, OEAddExplicitHydrogens, OEHasAtomIdx,\n",
    "OEAtomGetResidue)"
   ]
  },
  {
   "cell_type": "markdown",
   "metadata": {},
   "source": [
    "## Read in the host and guest molecules to `OEMol`s"
   ]
  },
  {
   "cell_type": "code",
   "execution_count": 5,
   "metadata": {},
   "outputs": [],
   "source": [
    "filename = 'MGO-sybyl.mol2'\n",
    "molecules = []\n",
    "\n",
    "ifs = oemolistream()\n",
    "flavor = OEIFlavor_MOL2_Forcefield\n",
    "ifs.SetFlavor(OEFormat_MOL2, flavor)\n",
    "ifs.open(filename)\n",
    "\n",
    "for mol in ifs.GetOEMols():\n",
    "    OETriposAtomNames(mol)\n",
    "    molecules.append(OEMol(mol))\n",
    "    \n",
    "filename = 'MOL-sybyl.mol2'\n",
    "ifs = oemolistream()\n",
    "flavor = OEIFlavor_MOL2_Forcefield\n",
    "ifs.SetFlavor(OEFormat_MOL2, flavor)\n",
    "ifs.open(filename)\n",
    "\n",
    "for mol in ifs.GetOEMols():\n",
    "    OETriposAtomNames(mol)\n",
    "    molecules.append(OEMol(mol))"
   ]
  },
  {
   "cell_type": "markdown",
   "metadata": {},
   "source": [
    "## Read the in the topology information from a PDB"
   ]
  },
  {
   "cell_type": "code",
   "execution_count": 21,
   "metadata": {},
   "outputs": [],
   "source": [
    "filename = 'smirnoff.pruned.pdb'\n",
    "pdb = pmd.load_file(filename)\n",
    "topology = pmd.Structure()\n",
    "topology += pdb.split()[0][0]\n",
    "topology += pdb.split()[1][0]"
   ]
  },
  {
   "cell_type": "code",
   "execution_count": 22,
   "metadata": {},
   "outputs": [
    {
     "data": {
      "text/plain": [
       "<Structure 143 atoms; 7 residues; 148 bonds; NOT parametrized>"
      ]
     },
     "execution_count": 22,
     "metadata": {},
     "output_type": "execute_result"
    }
   ],
   "source": [
    "topology"
   ]
  },
  {
   "cell_type": "markdown",
   "metadata": {},
   "source": [
    "## Create the OpenMM `System`"
   ]
  },
  {
   "cell_type": "code",
   "execution_count": 23,
   "metadata": {},
   "outputs": [
    {
     "ename": "AttributeError",
     "evalue": "'Structure' object has no attribute '_chains'",
     "output_type": "error",
     "traceback": [
      "\u001b[0;31m---------------------------------------------------------------------------\u001b[0m",
      "\u001b[0;31mAttributeError\u001b[0m                            Traceback (most recent call last)",
      "\u001b[0;32m<ipython-input-23-2af3d7c3c85a>\u001b[0m in \u001b[0;36m<module>\u001b[0;34m()\u001b[0m\n\u001b[1;32m      4\u001b[0m     \u001b[0mmolecules\u001b[0m\u001b[0;34m,\u001b[0m\u001b[0;34m\u001b[0m\u001b[0m\n\u001b[1;32m      5\u001b[0m     \u001b[0mnonbondedCutoff\u001b[0m\u001b[0;34m=\u001b[0m\u001b[0;36m1.1\u001b[0m \u001b[0;34m*\u001b[0m \u001b[0munit\u001b[0m\u001b[0;34m.\u001b[0m\u001b[0mnanometer\u001b[0m\u001b[0;34m,\u001b[0m\u001b[0;34m\u001b[0m\u001b[0m\n\u001b[0;32m----> 6\u001b[0;31m     ewaldErrorTolerance=1e-4)\n\u001b[0m",
      "\u001b[0;32m~/data/applications/anaconda3/envs/speakeasy/lib/python3.6/site-packages/openforcefield/typing/engines/smirnoff/forcefield.py\u001b[0m in \u001b[0;36mcreateSystem\u001b[0;34m(self, topology, molecules, nonbondedMethod, nonbondedCutoff, constraints, rigidWater, removeCMMotion, hydrogenMass, residueTemplates, chargeMethod, verbose, **kwargs)\u001b[0m\n\u001b[1;32m    967\u001b[0m \u001b[0;34m\u001b[0m\u001b[0m\n\u001b[1;32m    968\u001b[0m         \u001b[0;31m# Work with a modified form of the topology that provides additional accessors.\u001b[0m\u001b[0;34m\u001b[0m\u001b[0;34m\u001b[0m\u001b[0m\n\u001b[0;32m--> 969\u001b[0;31m         \u001b[0mtopology\u001b[0m \u001b[0;34m=\u001b[0m \u001b[0m_Topology\u001b[0m\u001b[0;34m(\u001b[0m\u001b[0mtopology\u001b[0m\u001b[0;34m,\u001b[0m \u001b[0mmolecules\u001b[0m\u001b[0;34m)\u001b[0m\u001b[0;34m\u001b[0m\u001b[0m\n\u001b[0m\u001b[1;32m    970\u001b[0m \u001b[0;34m\u001b[0m\u001b[0m\n\u001b[1;32m    971\u001b[0m         \u001b[0;31m# If the charge method was not an OpenEye AM1 method and we need Wiberg bond orders, obtain Wiberg bond orders\u001b[0m\u001b[0;34m\u001b[0m\u001b[0;34m\u001b[0m\u001b[0m\n",
      "\u001b[0;32m~/data/applications/anaconda3/envs/speakeasy/lib/python3.6/site-packages/openforcefield/typing/engines/smirnoff/forcefield.py\u001b[0m in \u001b[0;36m__init__\u001b[0;34m(self, topology, reference_molecules)\u001b[0m\n\u001b[1;32m    182\u001b[0m         \u001b[0;31m# TODO: Find a way to avoid having this be fragile based on internal representation of Topology.\u001b[0m\u001b[0;34m\u001b[0m\u001b[0;34m\u001b[0m\u001b[0m\n\u001b[1;32m    183\u001b[0m         \u001b[0;31m# TODO: Should this also use a deepcopy of 'topology' first?\u001b[0m\u001b[0;34m\u001b[0m\u001b[0;34m\u001b[0m\u001b[0m\n\u001b[0;32m--> 184\u001b[0;31m         \u001b[0mself\u001b[0m\u001b[0;34m.\u001b[0m\u001b[0m_chains\u001b[0m \u001b[0;34m=\u001b[0m \u001b[0mtopology\u001b[0m\u001b[0;34m.\u001b[0m\u001b[0m_chains\u001b[0m\u001b[0;34m\u001b[0m\u001b[0m\n\u001b[0m\u001b[1;32m    185\u001b[0m         \u001b[0mself\u001b[0m\u001b[0;34m.\u001b[0m\u001b[0m_numResidues\u001b[0m \u001b[0;34m=\u001b[0m \u001b[0mtopology\u001b[0m\u001b[0;34m.\u001b[0m\u001b[0m_numResidues\u001b[0m\u001b[0;34m\u001b[0m\u001b[0m\n\u001b[1;32m    186\u001b[0m         \u001b[0mself\u001b[0m\u001b[0;34m.\u001b[0m\u001b[0m_numAtoms\u001b[0m \u001b[0;34m=\u001b[0m \u001b[0mtopology\u001b[0m\u001b[0;34m.\u001b[0m\u001b[0m_numAtoms\u001b[0m\u001b[0;34m\u001b[0m\u001b[0m\n",
      "\u001b[0;31mAttributeError\u001b[0m: 'Structure' object has no attribute '_chains'"
     ]
    }
   ],
   "source": [
    "ff = ForceField('forcefield/smirnoff99Frosst.offxml')\n",
    "system = ff.createSystem(\n",
    "    topology,\n",
    "    molecules,\n",
    "    nonbondedCutoff=1.1 * unit.nanometer,\n",
    "    ewaldErrorTolerance=1e-4)"
   ]
  },
  {
   "cell_type": "code",
   "execution_count": 25,
   "metadata": {},
   "outputs": [],
   "source": [
    "components = pdb.split()"
   ]
  },
  {
   "cell_type": "code",
   "execution_count": 30,
   "metadata": {},
   "outputs": [
    {
     "name": "stdout",
     "output_type": "stream",
     "text": [
      "\n",
      "\n",
      "\n",
      "\n",
      "\n"
     ]
    }
   ],
   "source": [
    "for component in components:\n",
    "    print(component[0].residues[0].chain)"
   ]
  },
  {
   "cell_type": "code",
   "execution_count": null,
   "metadata": {},
   "outputs": [],
   "source": []
  }
 ],
 "metadata": {
  "kernelspec": {
   "display_name": "Python [conda env:speakeasy]",
   "language": "python",
   "name": "conda-env-speakeasy-py"
  },
  "language_info": {
   "codemirror_mode": {
    "name": "ipython",
    "version": 3
   },
   "file_extension": ".py",
   "mimetype": "text/x-python",
   "name": "python",
   "nbconvert_exporter": "python",
   "pygments_lexer": "ipython3",
   "version": "3.6.4"
  }
 },
 "nbformat": 4,
 "nbformat_minor": 2
}
