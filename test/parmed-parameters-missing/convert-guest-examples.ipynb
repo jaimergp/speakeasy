{
 "cells": [
  {
   "cell_type": "markdown",
   "metadata": {},
   "source": [
    "# Use this notebook to convert a number of guest molecules to smirnoff99Frosst"
   ]
  },
  {
   "cell_type": "code",
   "execution_count": 9,
   "metadata": {},
   "outputs": [
    {
     "name": "stdout",
     "output_type": "stream",
     "text": [
      "The autoreload extension is already loaded. To reload it, use:\n",
      "  %reload_ext autoreload\n"
     ]
    }
   ],
   "source": [
    "%load_ext autoreload\n",
    "%autoreload 2\n",
    "\n",
    "import glob as glob\n",
    "import os as os\n",
    "\n",
    "from speakeasy.smirnoff import Conversion\n",
    "from speakeasy.compare import *"
   ]
  },
  {
   "cell_type": "code",
   "execution_count": 7,
   "metadata": {},
   "outputs": [],
   "source": [
    "files = glob.glob(\"../molecules/*.mol2\")\n",
    "files = [i for i in files if \"MGO\" not in i]\n",
    "files = [i for i in files if \"MOL\" not in i]"
   ]
  },
  {
   "cell_type": "code",
   "execution_count": 18,
   "metadata": {},
   "outputs": [],
   "source": [
    "for file in files:\n",
    "    cnvs = Conversion()\n",
    "    cnvs.mol2_file = file\n",
    "    cnvs.output_prefix = os.path.basename(file).split(\".\")[0] + \"-smirnoff\"\n",
    "    cnvs.convert_to_smirnoff()"
   ]
  },
  {
   "cell_type": "code",
   "execution_count": 22,
   "metadata": {},
   "outputs": [
    {
     "name": "stderr",
     "output_type": "stream",
     "text": [
      "2018-06-15 10:22:24 AM `prmtop` and `inpcrd` files written by tleap.\n",
      "2018-06-15 10:22:24 AM `prmtop` and `inpcrd` files written by tleap.\n",
      "2018-06-15 10:22:24 AM `prmtop` and `inpcrd` files written by tleap.\n",
      "2018-06-15 10:22:24 AM `prmtop` and `inpcrd` files written by tleap.\n",
      "2018-06-15 10:22:24 AM `prmtop` and `inpcrd` files written by tleap.\n",
      "2018-06-15 10:22:24 AM `prmtop` and `inpcrd` files written by tleap.\n",
      "2018-06-15 10:22:24 AM `prmtop` and `inpcrd` files written by tleap.\n",
      "2018-06-15 10:22:24 AM `prmtop` and `inpcrd` files written by tleap.\n",
      "2018-06-15 10:22:24 AM `prmtop` and `inpcrd` files written by tleap.\n",
      "2018-06-15 10:22:24 AM `prmtop` and `inpcrd` files written by tleap.\n",
      "2018-06-15 10:22:24 AM `prmtop` and `inpcrd` files written by tleap.\n",
      "2018-06-15 10:22:24 AM `prmtop` and `inpcrd` files written by tleap.\n",
      "2018-06-15 10:22:24 AM `prmtop` and `inpcrd` files written by tleap.\n",
      "2018-06-15 10:22:24 AM `prmtop` and `inpcrd` files written by tleap.\n",
      "2018-06-15 10:22:24 AM `prmtop` and `inpcrd` files written by tleap.\n",
      "2018-06-15 10:22:24 AM `prmtop` and `inpcrd` files written by tleap.\n",
      "2018-06-15 10:22:24 AM `prmtop` and `inpcrd` files written by tleap.\n",
      "2018-06-15 10:22:24 AM `prmtop` and `inpcrd` files written by tleap.\n",
      "2018-06-15 10:22:24 AM `prmtop` and `inpcrd` files written by tleap.\n",
      "2018-06-15 10:22:25 AM `prmtop` and `inpcrd` files written by tleap.\n",
      "2018-06-15 10:22:25 AM `prmtop` and `inpcrd` files written by tleap.\n",
      "2018-06-15 10:22:25 AM `prmtop` and `inpcrd` files written by tleap.\n",
      "2018-06-15 10:22:25 AM `prmtop` and `inpcrd` files written by tleap.\n",
      "2018-06-15 10:22:25 AM `prmtop` and `inpcrd` files written by tleap.\n",
      "2018-06-15 10:22:25 AM `prmtop` and `inpcrd` files written by tleap.\n",
      "2018-06-15 10:22:25 AM `prmtop` and `inpcrd` files written by tleap.\n",
      "2018-06-15 10:22:25 AM `prmtop` and `inpcrd` files written by tleap.\n",
      "2018-06-15 10:22:25 AM `prmtop` and `inpcrd` files written by tleap.\n",
      "2018-06-15 10:22:25 AM `prmtop` and `inpcrd` files written by tleap.\n",
      "2018-06-15 10:22:25 AM `prmtop` and `inpcrd` files written by tleap.\n",
      "2018-06-15 10:22:25 AM `prmtop` and `inpcrd` files written by tleap.\n",
      "2018-06-15 10:22:25 AM `prmtop` and `inpcrd` files written by tleap.\n",
      "2018-06-15 10:22:25 AM `prmtop` and `inpcrd` files written by tleap.\n"
     ]
    }
   ],
   "source": [
    "for file in files:\n",
    "    base_name = os.path.basename(file).split(\".\")[0] + \"-smirnoff\"\n",
    "    tleap = f\"\"\"\n",
    "    loadamberparams {base_name + \".frcmod\"}\n",
    "    mol = loadmol2 {base_name + \".mol2\"}\n",
    "    saveamberparm mol {base_name + \".prmtop\"} {base_name + \".inpcrd\"}\n",
    "    quit\n",
    "    \"\"\"\n",
    "    \n",
    "    tleap_input = base_name + \".in\"\n",
    "    tleap_output = base_name + \".out\"\n",
    "    with open(tleap_input, \"w\") as file:\n",
    "        file.write(tleap)\n",
    "    with open(tleap_output, \"w\") as file:\n",
    "        p = sp.Popen(\n",
    "            [\"tleap\", \"-f\", tleap_input, \">\", tleap_output],\n",
    "            cwd=\".\",\n",
    "            stdout=file,\n",
    "            stderr=file,\n",
    "        )\n",
    "    output, error = p.communicate()\n",
    "    if p.returncode == 0:\n",
    "        logging.info(\"`prmtop` and `inpcrd` files written by tleap.\")\n",
    "\n",
    "    if p.returncode != 0:\n",
    "        logging.debug(\"Error running `tleap`.\")\n",
    "        logging.error(f\"Output: {output}\")\n",
    "        logging.error(f\"Error: {error}\")\n"
   ]
  },
  {
   "cell_type": "markdown",
   "metadata": {},
   "source": [
    "Also, create GAFF `prmtop` files."
   ]
  },
  {
   "cell_type": "code",
   "execution_count": 25,
   "metadata": {},
   "outputs": [
    {
     "name": "stderr",
     "output_type": "stream",
     "text": [
      "2018-06-15 10:24:52 AM `prmtop` and `inpcrd` files written by tleap.\n",
      "2018-06-15 10:24:52 AM `prmtop` and `inpcrd` files written by tleap.\n",
      "2018-06-15 10:24:52 AM `prmtop` and `inpcrd` files written by tleap.\n",
      "2018-06-15 10:24:52 AM `prmtop` and `inpcrd` files written by tleap.\n",
      "2018-06-15 10:24:52 AM `prmtop` and `inpcrd` files written by tleap.\n",
      "2018-06-15 10:24:52 AM `prmtop` and `inpcrd` files written by tleap.\n",
      "2018-06-15 10:24:52 AM `prmtop` and `inpcrd` files written by tleap.\n",
      "2018-06-15 10:24:52 AM `prmtop` and `inpcrd` files written by tleap.\n",
      "2018-06-15 10:24:52 AM `prmtop` and `inpcrd` files written by tleap.\n",
      "2018-06-15 10:24:52 AM `prmtop` and `inpcrd` files written by tleap.\n",
      "2018-06-15 10:24:52 AM `prmtop` and `inpcrd` files written by tleap.\n",
      "2018-06-15 10:24:52 AM `prmtop` and `inpcrd` files written by tleap.\n",
      "2018-06-15 10:24:52 AM `prmtop` and `inpcrd` files written by tleap.\n",
      "2018-06-15 10:24:52 AM `prmtop` and `inpcrd` files written by tleap.\n",
      "2018-06-15 10:24:52 AM `prmtop` and `inpcrd` files written by tleap.\n",
      "2018-06-15 10:24:52 AM `prmtop` and `inpcrd` files written by tleap.\n",
      "2018-06-15 10:24:52 AM `prmtop` and `inpcrd` files written by tleap.\n",
      "2018-06-15 10:24:52 AM `prmtop` and `inpcrd` files written by tleap.\n",
      "2018-06-15 10:24:52 AM `prmtop` and `inpcrd` files written by tleap.\n",
      "2018-06-15 10:24:52 AM `prmtop` and `inpcrd` files written by tleap.\n",
      "2018-06-15 10:24:52 AM `prmtop` and `inpcrd` files written by tleap.\n",
      "2018-06-15 10:24:52 AM `prmtop` and `inpcrd` files written by tleap.\n",
      "2018-06-15 10:24:52 AM `prmtop` and `inpcrd` files written by tleap.\n",
      "2018-06-15 10:24:52 AM `prmtop` and `inpcrd` files written by tleap.\n",
      "2018-06-15 10:24:52 AM `prmtop` and `inpcrd` files written by tleap.\n",
      "2018-06-15 10:24:52 AM `prmtop` and `inpcrd` files written by tleap.\n",
      "2018-06-15 10:24:53 AM `prmtop` and `inpcrd` files written by tleap.\n",
      "2018-06-15 10:24:53 AM `prmtop` and `inpcrd` files written by tleap.\n",
      "2018-06-15 10:24:53 AM `prmtop` and `inpcrd` files written by tleap.\n",
      "2018-06-15 10:24:53 AM `prmtop` and `inpcrd` files written by tleap.\n",
      "2018-06-15 10:24:53 AM `prmtop` and `inpcrd` files written by tleap.\n",
      "2018-06-15 10:24:53 AM `prmtop` and `inpcrd` files written by tleap.\n",
      "2018-06-15 10:24:53 AM `prmtop` and `inpcrd` files written by tleap.\n"
     ]
    }
   ],
   "source": [
    "for file in files:\n",
    "    base_name = os.path.basename(file).split(\".\")[0]\n",
    "    tleap = f\"\"\"\n",
    "    source leaprc.gaff\n",
    "    loadamberparams {\"../molecules//\" + base_name + \".frcmod\"}\n",
    "    mol = loadmol2 {\"../molecules/\" + base_name + \".mol2\"}\n",
    "    saveamberparm mol {base_name + \"-gaff.prmtop\"} {base_name + \"-gaff.inpcrd\"}\n",
    "    quit\n",
    "    \"\"\"\n",
    "    \n",
    "    tleap_input = base_name + \".in\"\n",
    "    tleap_output = base_name + \".out\"\n",
    "    with open(tleap_input, \"w\") as file:\n",
    "        file.write(tleap)\n",
    "    with open(tleap_output, \"w\") as file:\n",
    "        p = sp.Popen(\n",
    "            [\"tleap\", \"-f\", tleap_input, \">\", tleap_output],\n",
    "            cwd=\".\",\n",
    "            stdout=file,\n",
    "            stderr=file,\n",
    "        )\n",
    "    output, error = p.communicate()\n",
    "    if p.returncode == 0:\n",
    "        logging.info(\"`prmtop` and `inpcrd` files written by tleap.\")\n",
    "\n",
    "    if p.returncode != 0:\n",
    "        logging.debug(\"Error running `tleap`.\")\n",
    "        logging.error(f\"Output: {output}\")\n",
    "        logging.error(f\"Error: {error}\")\n"
   ]
  },
  {
   "cell_type": "code",
   "execution_count": null,
   "metadata": {},
   "outputs": [],
   "source": []
  }
 ],
 "metadata": {
  "kernelspec": {
   "display_name": "Python [conda env:speakeasy]",
   "language": "python",
   "name": "conda-env-speakeasy-py"
  },
  "language_info": {
   "codemirror_mode": {
    "name": "ipython",
    "version": 3
   },
   "file_extension": ".py",
   "mimetype": "text/x-python",
   "name": "python",
   "nbconvert_exporter": "python",
   "pygments_lexer": "ipython3",
   "version": "3.6.4"
  }
 },
 "nbformat": 4,
 "nbformat_minor": 2
}
