{
 "cells": [
  {
   "cell_type": "code",
   "execution_count": 1,
   "metadata": {},
   "outputs": [],
   "source": [
    "import numpy as np\n",
    "import re"
   ]
  },
  {
   "cell_type": "code",
   "execution_count": 3,
   "metadata": {},
   "outputs": [],
   "source": [
    "with open(\"../data/phenol.tripos.mol2\") as file:\n",
    "    data = file.read()"
   ]
  },
  {
   "cell_type": "markdown",
   "metadata": {},
   "source": [
    "# Left (Amber) workflow\n",
    "\n",
    "Tripos MOL2 \\rightarrow GAFF MOL2 \\rightarrow FRCMOD and PRMTOP"
   ]
  },
  {
   "cell_type": "code",
   "execution_count": 30,
   "metadata": {},
   "outputs": [
    {
     "name": "stdout",
     "output_type": "stream",
     "text": [
      "\r\n",
      "Welcome to antechamber 17.3: molecular input file processor.\r\n",
      "\r\n",
      "acdoctor mode is on: check and diagnosis problems in the input file.\r\n",
      "-- Check Format for mol2 File --\r\n",
      "   Status: pass\r\n",
      "-- Check Unusual Elements --\r\n",
      "   Status: pass\r\n",
      "-- Check Open Valences --\r\n",
      "   Status: pass\r\n",
      "-- Check Geometry --\r\n",
      "      for those bonded   \r\n",
      "      for those not bonded   \r\n",
      "   Status: pass\r\n",
      "-- Check Weird Bonds --\r\n",
      "   Status: pass\r\n",
      "-- Check Number of Units --\r\n",
      "   Status: pass\r\n",
      "acdoctor mode has completed checking the input file.\r\n",
      "\r\n",
      "\r\n"
     ]
    }
   ],
   "source": [
    "!antechamber -fi mol2 -i ../data/phenol.tripos.mol2 -fo mol2 -o phenol.gaff.mol2"
   ]
  },
  {
   "cell_type": "markdown",
   "metadata": {},
   "source": [
    "See `tleap.gaff.in`."
   ]
  },
  {
   "cell_type": "markdown",
   "metadata": {},
   "source": [
    "Then use `parmchk2`..."
   ]
  },
  {
   "cell_type": "markdown",
   "metadata": {},
   "source": [
    "# Right (OpenFF) workflow\n",
    "\n",
    "Tripols MOL2 \\rightarrow OEMols \\rightarrow OpenMM system \\rightarrow MOL2, PRMTOP, FRCMOD (via ParmED)"
   ]
  },
  {
   "cell_type": "code",
   "execution_count": 8,
   "metadata": {},
   "outputs": [],
   "source": [
    "from openeye.oechem import (\n",
    "    oemolistream, oemolostream, OEIFlavor_MOL2_Forcefield,\n",
    "    OEIFlavor_Generic_Default, OEIFlavor_PDB_Default, OEIFlavor_PDB_ALL,\n",
    "    OEFormat_MOL2, OEFormat_MOL2H, OEWriteMolecule, OETriposAtomNames, OEMol,\n",
    "    OEFormat_PDB, OESmilesToMol, OEAddExplicitHydrogens, OEHasAtomIdx,\n",
    "    OEAtomGetResidue)\n",
    "\n",
    "from openforcefield.typing.engines.smirnoff import (\n",
    "    ForceField, generateTopologyFromOEMol, generateGraphFromTopology, unit)\n"
   ]
  },
  {
   "cell_type": "markdown",
   "metadata": {},
   "source": [
    "## Part 1"
   ]
  },
  {
   "cell_type": "code",
   "execution_count": 60,
   "metadata": {},
   "outputs": [],
   "source": [
    "molecules = []\n",
    "ifs = oemolistream()\n",
    "ifs.SetFlavor(OEFormat_MOL2, OEIFlavor_MOL2_Forcefield)\n",
    "ifs.open(\"../data/phenol.tripos.mol2\")\n",
    "for index, mol in enumerate(ifs.GetOEMols()):\n",
    "    molecules.append(OEMol(mol))"
   ]
  },
  {
   "cell_type": "markdown",
   "metadata": {},
   "source": [
    "## Part 2"
   ]
  },
  {
   "cell_type": "code",
   "execution_count": 66,
   "metadata": {},
   "outputs": [],
   "source": [
    "topology = generateTopologyFromOEMol(molecules[0])\n",
    "ff = ForceField('forcefield/smirnoff99Frosst.offxml')\n",
    "system = ff.createSystem(\n",
    "    topology,\n",
    "    molecules,\n",
    "    nonbondedCutoff=1.1 * unit.nanometer,\n",
    "    ewaldErrorTolerance=1e-4)"
   ]
  },
  {
   "cell_type": "code",
   "execution_count": 67,
   "metadata": {},
   "outputs": [
    {
     "data": {
      "text/plain": [
       "13"
      ]
     },
     "execution_count": 67,
     "metadata": {},
     "output_type": "execute_result"
    }
   ],
   "source": [
    "system.getNumParticles()"
   ]
  },
  {
   "cell_type": "markdown",
   "metadata": {},
   "source": [
    "\n",
    "## Part 3"
   ]
  },
  {
   "cell_type": "code",
   "execution_count": 68,
   "metadata": {},
   "outputs": [],
   "source": [
    "import parmed as pmd"
   ]
  },
  {
   "cell_type": "code",
   "execution_count": 74,
   "metadata": {},
   "outputs": [],
   "source": [
    "structure = pmd.openmm.load_topology(topology, system)"
   ]
  },
  {
   "cell_type": "code",
   "execution_count": 75,
   "metadata": {},
   "outputs": [],
   "source": [
    "structure.save(\"phenol.prmtop\")"
   ]
  },
  {
   "cell_type": "code",
   "execution_count": 78,
   "metadata": {},
   "outputs": [],
   "source": [
    "pmd.tools.writeFrcmod(pmd.load_file(\"phenol.prmtop\"), \"phenol.frcmod\").execute()"
   ]
  },
  {
   "cell_type": "code",
   "execution_count": null,
   "metadata": {},
   "outputs": [],
   "source": []
  }
 ],
 "metadata": {
  "kernelspec": {
   "display_name": "Python [conda env:openforcefield-testing]",
   "language": "python",
   "name": "conda-env-openforcefield-testing-py"
  },
  "language_info": {
   "codemirror_mode": {
    "name": "ipython",
    "version": 3
   },
   "file_extension": ".py",
   "mimetype": "text/x-python",
   "name": "python",
   "nbconvert_exporter": "python",
   "pygments_lexer": "ipython3",
   "version": "3.6.4"
  }
 },
 "nbformat": 4,
 "nbformat_minor": 2
}
